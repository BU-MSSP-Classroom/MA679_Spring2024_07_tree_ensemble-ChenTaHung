{
 "cells": [
  {
   "cell_type": "markdown",
   "id": "d44e3904",
   "metadata": {},
   "source": [
    "# Class Workbook {.tabset .tabset-fade .tabset-pills}"
   ]
  },
  {
   "cell_type": "markdown",
   "id": "a139ed8f",
   "metadata": {},
   "source": [
    "## In class activity"
   ]
  },
  {
   "cell_type": "code",
   "execution_count": 1,
   "id": "ec6c3ae3",
   "metadata": {
    "kernel": "Python3",
    "tags": [
     "report_cell"
    ]
   },
   "outputs": [],
   "source": [
    "import numpy as np\n",
    "import pandas as pd\n",
    "#import math\n",
    "from matplotlib.pyplot import subplots\n",
    "#import statsmodels.api as sm\n",
    "from plotnine import *\n",
    "#import plotly.express as px\n",
    "#import statsmodels.formula.api as sm\n",
    "#import ISLP as islp"
   ]
  },
  {
   "cell_type": "markdown",
   "id": "a006f7cf",
   "metadata": {},
   "source": [
    "### Bank Credit Data\n",
    "\n",
    "Please take a look at the following credit scoring data set. This data was used to predict defaults on consumer loans. The data contains  1000 rows and 21 variables:"
   ]
  },
  {
   "cell_type": "code",
   "execution_count": 2,
   "id": "dc73a6c7",
   "metadata": {
    "kernel": "Python3",
    "tags": [
     "report_cell"
    ]
   },
   "outputs": [],
   "source": [
    "credit_data=pd.read_csv(\"credit_data.csv\")"
   ]
  },
  {
   "cell_type": "markdown",
   "id": "aeb90aeb",
   "metadata": {},
   "source": [
    "Here are the variables.\n",
    "\n",
    "- BAD: factor, GOOD/BAD for whether a customer has defaulted on a loan. This is the outcome or target in this dataset\n",
    "- Account_status: factor, status of existing checking account\n",
    "- Duration: numeric, loan duration in month\n",
    "- Credit_history: factor, previous credit history\n",
    "- Purpose: factor, loan purpose\n",
    "- Amount: numeric, credit amount\n",
    "- Savings: factor, savings account/bonds\n",
    "- Employment: factor, present employment since\n",
    "- Installment_rate: numeric, installment rate in percentage of disposable income\n",
    "- Guarantors: factor, other debtors / guarantors\n",
    "- Resident_since: factor, present residence since\n",
    "- Property: factor, property\n",
    "- Age: numeric, age in years\n",
    "- Other_plans: factor, other installment plans (bank ,none, stores )\n",
    "- Housing: factor, housing\n",
    "- Num_credits: numeric, Number of existing credits at this bank\n",
    "- Job: factor, job( management / self-employed / highly qualified employee / officer; skilled employee / official ; unemployed / unskilled - non-resident ; unskilled - resident )\n",
    "- People_maintenance: numeric, number of people being liable to provide maintenance for\n",
    "- Phone: factor, telephone (none ; yes, registered under the customers name )\n",
    "- Foreign: factor, foreign worker ( no ; yes )\n",
    "- Female: factor, female/male for gender\n",
    "\n",
    "Create a predictive model that predicts the outcome `BAD`."
   ]
  },
  {
   "cell_type": "code",
   "execution_count": 3,
   "id": "5abe777b",
   "metadata": {
    "kernel": "Python3",
    "tags": [
     "report_cell"
    ]
   },
   "outputs": [],
   "source": [
    "from sklearn.model_selection import train_test_split\n",
    "# split the data\n",
    "X_train, X_test, y_train, y_test = train_test_split(credit_data.loc[:,credit_data.columns != \"BAD\"], credit_data.loc[:,\"BAD\"], test_size=0.33, random_state=42)\n",
    "\n",
    "credit_data_train  = pd.concat([X_train, y_train], axis=1)\n",
    "credit_data_valid  = pd.concat([X_test, y_test], axis=1)"
   ]
  },
  {
   "cell_type": "markdown",
   "id": "c47e7826",
   "metadata": {},
   "source": [
    "Evaluate your model performance.  What criteria do you think will be appropriate."
   ]
  },
  {
   "cell_type": "code",
   "execution_count": 4,
   "id": "4cc8f5cd",
   "metadata": {
    "kernel": "Python3",
    "tags": [
     "report_cell"
    ]
   },
   "outputs": [
    {
     "data": {
      "text/plain": [
       "GOOD    471\n",
       "BAD     199\n",
       "Name: BAD, dtype: int64"
      ]
     },
     "execution_count": 4,
     "metadata": {},
     "output_type": "execute_result"
    }
   ],
   "source": [
    "y_train.value_counts()"
   ]
  },
  {
   "cell_type": "markdown",
   "id": "7ea3b6cd",
   "metadata": {},
   "source": [
    "Comment of the result:\n",
    "\n",
    "~~~\n",
    "Please write your answer in full sentences.\n",
    "\n",
    "Bad event is where the customer default on his/her loan, and this engender loss to the bank, so we would like to capture all potential bads.\n",
    "\n",
    "So I decided to use AUC/Recall/Precision values as our performance metrics. \n",
    "\n",
    "~~~"
   ]
  },
  {
   "cell_type": "markdown",
   "id": "a14d35ee",
   "metadata": {},
   "source": [
    "### Ames Housing data\n",
    "\n",
    "Please take a look at the Ames Housing data."
   ]
  },
  {
   "cell_type": "code",
   "execution_count": 5,
   "id": "9db1f2e8",
   "metadata": {
    "kernel": "Python3",
    "tags": [
     "report_cell"
    ]
   },
   "outputs": [],
   "source": [
    "ames_raw=pd.read_csv(\"ames_raw.csv\")"
   ]
  },
  {
   "cell_type": "markdown",
   "id": "ed00790e",
   "metadata": {},
   "source": [
    "Use data of `ames_raw` up to 2008 predict the housing price for the later years."
   ]
  },
  {
   "cell_type": "code",
   "execution_count": 6,
   "id": "47e92069",
   "metadata": {
    "Rmd_chunk_options": "echo=show_code",
    "kernel": "Python3",
    "tags": [
     "report_cell"
    ]
   },
   "outputs": [],
   "source": [
    "# Do feature engineering if needed.\n",
    "ames_raw_2009, ames_raw_2008= ames_raw.query('`Yr Sold`>=2008').copy(), ames_raw.query('`Yr Sold` <2008').copy()"
   ]
  },
  {
   "cell_type": "markdown",
   "id": "6a64eea5",
   "metadata": {},
   "source": [
    "Use the same loss function calculator."
   ]
  },
  {
   "cell_type": "code",
   "execution_count": 7,
   "id": "b50d822d",
   "metadata": {
    "Rmd_chunk_options": "echo=show_code",
    "kernel": "Python3",
    "tags": [
     "report_cell"
    ]
   },
   "outputs": [],
   "source": [
    "def calc_loss(prediction,actual):\n",
    "  difpred = actual-prediction\n",
    "  RMSE =pow(difpred.pow(2).mean(),1/2)\n",
    "  operation_loss=abs(sum(difpred[difpred<0]))+sum(0.1*actual[difpred>0])\n",
    "  return RMSE,operation_loss"
   ]
  },
  {
   "cell_type": "markdown",
   "id": "2bf99443",
   "metadata": {},
   "source": [
    "Apply CART and try to interpret the result that you get.  Be sure to fit the models on a training set and evaluate their performance on a test set.  Does it have a good prediction accuracy?"
   ]
  },
  {
   "cell_type": "code",
   "execution_count": 9,
   "id": "7a96a78c",
   "metadata": {},
   "outputs": [
    {
     "data": {
      "text/plain": [
       "Index(['Order', 'PID', 'MS SubClass', 'MS Zoning', 'Lot Frontage', 'Lot Area',\n",
       "       'Street', 'Alley', 'Lot Shape', 'Land Contour', 'Utilities',\n",
       "       'Lot Config', 'Land Slope', 'Neighborhood', 'Condition 1',\n",
       "       'Condition 2', 'Bldg Type', 'House Style', 'Overall Qual',\n",
       "       'Overall Cond', 'Year Built', 'Year Remod/Add', 'Roof Style',\n",
       "       'Roof Matl', 'Exterior 1st', 'Exterior 2nd', 'Mas Vnr Type',\n",
       "       'Mas Vnr Area', 'Exter Qual', 'Exter Cond', 'Foundation', 'Bsmt Qual',\n",
       "       'Bsmt Cond', 'Bsmt Exposure', 'BsmtFin Type 1', 'BsmtFin SF 1',\n",
       "       'BsmtFin Type 2', 'BsmtFin SF 2', 'Bsmt Unf SF', 'Total Bsmt SF',\n",
       "       'Heating', 'Heating QC', 'Central Air', 'Electrical', '1st Flr SF',\n",
       "       '2nd Flr SF', 'Low Qual Fin SF', 'Gr Liv Area', 'Bsmt Full Bath',\n",
       "       'Bsmt Half Bath', 'Full Bath', 'Half Bath', 'Bedroom AbvGr',\n",
       "       'Kitchen AbvGr', 'Kitchen Qual', 'TotRms AbvGrd', 'Functional',\n",
       "       'Fireplaces', 'Fireplace Qu', 'Garage Type', 'Garage Yr Blt',\n",
       "       'Garage Finish', 'Garage Cars', 'Garage Area', 'Garage Qual',\n",
       "       'Garage Cond', 'Paved Drive', 'Wood Deck SF', 'Open Porch SF',\n",
       "       'Enclosed Porch', '3Ssn Porch', 'Screen Porch', 'Pool Area', 'Pool QC',\n",
       "       'Fence', 'Misc Feature', 'Misc Val', 'Mo Sold', 'Yr Sold', 'Sale Type',\n",
       "       'Sale Condition', 'SalePrice'],\n",
       "      dtype='object')"
      ]
     },
     "execution_count": 9,
     "metadata": {},
     "output_type": "execute_result"
    }
   ],
   "source": [
    "ames_raw_2008.columns"
   ]
  },
  {
   "cell_type": "code",
   "execution_count": 11,
   "id": "792042dd",
   "metadata": {
    "kernel": "Python3",
    "tags": [
     "report_cell"
    ]
   },
   "outputs": [
    {
     "name": "stdout",
     "output_type": "stream",
     "text": [
      "Mean Squared Error: 2544934405.1396646\n"
     ]
    }
   ],
   "source": [
    "from sklearn.tree import DecisionTreeRegressor\n",
    "from sklearn.metrics import mean_squared_error\n",
    "\n",
    "X_train = ames_raw_2008[['Lot Area', 'Overall Qual',\n",
    "       'Overall Cond', 'Year Built', 'Year Remod/Add', '1st Flr SF',\n",
    "       '2nd Flr SF', 'Low Qual Fin SF', 'Gr Liv Area', 'Full Bath',\n",
    "       'Half Bath', 'Bedroom AbvGr', 'Kitchen AbvGr', 'TotRms AbvGrd',\n",
    "       'Fireplaces', 'Wood Deck SF', 'Open Porch SF', 'Enclosed Porch',\n",
    "       '3Ssn Porch', 'Screen Porch', 'Pool Area', 'Misc Val', 'Mo Sold',\n",
    "       'Yr Sold']]\n",
    "y_train = ames_raw_2008['SalePrice']\n",
    "\n",
    "X_test = ames_raw_2009[['Lot Area', 'Overall Qual',\n",
    "       'Overall Cond', 'Year Built', 'Year Remod/Add', '1st Flr SF',\n",
    "       '2nd Flr SF', 'Low Qual Fin SF', 'Gr Liv Area', 'Full Bath',\n",
    "       'Half Bath', 'Bedroom AbvGr', 'Kitchen AbvGr', 'TotRms AbvGrd',\n",
    "       'Fireplaces', 'Wood Deck SF', 'Open Porch SF', 'Enclosed Porch',\n",
    "       '3Ssn Porch', 'Screen Porch', 'Pool Area', 'Misc Val', 'Mo Sold',\n",
    "       'Yr Sold']]\n",
    "y_test = ames_raw_2009['SalePrice']\n",
    "\n",
    "tree = DecisionTreeRegressor()\n",
    "tree.fit(X_train, y_train)\n",
    "\n",
    "treepred = tree.predict(X_test)\n",
    "\n",
    "treemse = mean_squared_error(y_test, treepred)\n",
    "print(f\"Mean Squared Error: {treemse}\")"
   ]
  },
  {
   "cell_type": "markdown",
   "id": "e324fb1d",
   "metadata": {},
   "source": [
    "Comment of the result:\n",
    "\n",
    "~~~\n",
    "Please write your answer in full sentences.\n",
    "\n",
    "\n",
    "~~~\n",
    "\n",
    "Apply boosting, bagging, random forests, and BART to the Ames Housing data set. Be sure to fit the models on a training set and evaluate their performance on a test set. How accurate are the results compared to simple linear regression methods? Which of these approaches yields the best performance?"
   ]
  },
  {
   "cell_type": "code",
   "execution_count": 12,
   "id": "c4c54622",
   "metadata": {
    "kernel": "Python3",
    "tags": [
     "report_cell"
    ]
   },
   "outputs": [
    {
     "name": "stdout",
     "output_type": "stream",
     "text": [
      "Random Forest Mean Squared Error: 862809267.8213545\n"
     ]
    }
   ],
   "source": [
    "from sklearn.ensemble import RandomForestRegressor\n",
    "\n",
    "rf = RandomForestRegressor()\n",
    "rf.fit(X_train, y_train)\n",
    "\n",
    "rf_pred = rf.predict(X_test)\n",
    "\n",
    "rfmse = mean_squared_error(y_test, rf_pred)\n",
    "print(f\"Random Forest Mean Squared Error: {rfmse}\")\n"
   ]
  },
  {
   "cell_type": "code",
   "execution_count": 13,
   "id": "6336766b",
   "metadata": {},
   "outputs": [
    {
     "name": "stdout",
     "output_type": "stream",
     "text": [
      "Random Forest is better\n"
     ]
    }
   ],
   "source": [
    "if rfmse < treemse:\n",
    "  print(\"Random Forest is better\")"
   ]
  },
  {
   "cell_type": "markdown",
   "id": "8740594b",
   "metadata": {},
   "source": [
    "Comment of the result:\n",
    "\n",
    "~~~\n",
    "Please write your answer in full sentences.\n",
    "\n",
    "\n",
    "~~~"
   ]
  },
  {
   "cell_type": "markdown",
   "id": "1cccc280",
   "metadata": {},
   "source": [
    "## Problem Set"
   ]
  },
  {
   "cell_type": "markdown",
   "id": "1bbbb9e6",
   "metadata": {},
   "source": [
    "### Boston\n",
    "\n",
    "\n",
    "In Section 8.3.3, we applied random forests to the Boston data using max_features = 6 and using n_estimators = 100 and n_estimators = 500. Create a plot displaying the test error resulting from random forests on this data set for a more comprehensive range of values for max_features and n_estimators. You can model your plot after Figure 8.10. Describe the results obtained."
   ]
  },
  {
   "cell_type": "code",
   "execution_count": null,
   "id": "46ebdbe8",
   "metadata": {
    "kernel": "Python3",
    "tags": [
     "report_cell"
    ]
   },
   "outputs": [],
   "source": [
    "from ISLP import load_data\n",
    "Boston = load_data(\"Boston\")"
   ]
  },
  {
   "cell_type": "markdown",
   "id": "2b9faaf0",
   "metadata": {},
   "source": [
    "###\n",
    "\n",
    "In the lab, a classification tree was applied to the Carseats data set after converting Sales into a qualitative response variable. Now we will seek to predict Sales using regression trees and related approaches, treating the response as a quantitative variable."
   ]
  },
  {
   "cell_type": "code",
   "execution_count": null,
   "id": "4cad2376",
   "metadata": {
    "kernel": "Python3",
    "tags": [
     "report_cell"
    ]
   },
   "outputs": [],
   "source": [
    "Carseats = load_data(\"Carseats\")"
   ]
  },
  {
   "cell_type": "markdown",
   "id": "038f32c9",
   "metadata": {},
   "source": [
    "(a) Split the data set into a training set and a test set."
   ]
  },
  {
   "cell_type": "code",
   "execution_count": null,
   "id": "b6a0513c",
   "metadata": {
    "kernel": "Python3",
    "tags": [
     "report_cell"
    ]
   },
   "outputs": [],
   "source": []
  },
  {
   "cell_type": "markdown",
   "id": "8be38c78",
   "metadata": {},
   "source": [
    "(b) Fit a regression tree to the training set. Plot the tree, and interpret the results. What test MSE do you obtain?"
   ]
  },
  {
   "cell_type": "code",
   "execution_count": null,
   "id": "53cf235e",
   "metadata": {
    "kernel": "Python3",
    "tags": [
     "report_cell"
    ]
   },
   "outputs": [],
   "source": []
  },
  {
   "cell_type": "markdown",
   "id": "0374a191",
   "metadata": {},
   "source": [
    "(c) Use cross-validation in order to determine the optimal level of tree complexity. Does pruning the tree improve the test MSE?"
   ]
  },
  {
   "cell_type": "code",
   "execution_count": null,
   "id": "dd2a267b",
   "metadata": {
    "kernel": "Python3",
    "tags": [
     "report_cell"
    ]
   },
   "outputs": [],
   "source": []
  },
  {
   "cell_type": "markdown",
   "id": "47a8eaa9",
   "metadata": {},
   "source": [
    "(d) Use the bagging approach in order to analyze this data. What\n",
    "test MSE do you obtain? Use the feature_importance_ values to\n",
    "determine which variables are most important."
   ]
  },
  {
   "cell_type": "code",
   "execution_count": null,
   "id": "1aa5fc4c",
   "metadata": {
    "kernel": "Python3",
    "tags": [
     "report_cell"
    ]
   },
   "outputs": [],
   "source": []
  },
  {
   "cell_type": "markdown",
   "id": "81449ad5",
   "metadata": {},
   "source": [
    "(e) Use random forests to analyze this data. What test MSE do you obtain? Use the feature_importance_ values to determine\n",
    "which variables are most important. Describe the effect of m, the number of variables considered at each split, on the error rate\n",
    "obtained."
   ]
  },
  {
   "cell_type": "code",
   "execution_count": null,
   "id": "e50147a8",
   "metadata": {
    "kernel": "Python3",
    "tags": [
     "report_cell"
    ]
   },
   "outputs": [],
   "source": []
  },
  {
   "cell_type": "markdown",
   "id": "077deaf4",
   "metadata": {},
   "source": [
    "(f) Now analyze the data using BART, and report your results."
   ]
  },
  {
   "cell_type": "code",
   "execution_count": null,
   "id": "886f4ccb",
   "metadata": {
    "kernel": "Python3",
    "tags": [
     "report_cell"
    ]
   },
   "outputs": [],
   "source": []
  },
  {
   "cell_type": "markdown",
   "id": "481487a9",
   "metadata": {},
   "source": [
    "### OJ\n",
    "\n",
    "This problem involves the OJ data set which is part of the ISLR2 package."
   ]
  },
  {
   "cell_type": "code",
   "execution_count": 2,
   "id": "41dbe1c7",
   "metadata": {
    "kernel": "Python3",
    "tags": [
     "report_cell"
    ]
   },
   "outputs": [
    {
     "name": "stdout",
     "output_type": "stream",
     "text": [
      "Index(['Purchase', 'WeekofPurchase', 'StoreID', 'PriceCH', 'PriceMM', 'DiscCH',\n",
      "       'DiscMM', 'SpecialCH', 'SpecialMM', 'LoyalCH', 'SalePriceMM',\n",
      "       'SalePriceCH', 'PriceDiff', 'Store7', 'PctDiscMM', 'PctDiscCH',\n",
      "       'ListPriceDiff', 'STORE'],\n",
      "      dtype='object')\n"
     ]
    }
   ],
   "source": [
    "from ISLP import load_data\n",
    "OJ = load_data(\"OJ\")\n",
    "print(OJ.columns)"
   ]
  },
  {
   "cell_type": "code",
   "execution_count": 3,
   "id": "3cde173f",
   "metadata": {},
   "outputs": [
    {
     "data": {
      "text/html": [
       "<div>\n",
       "<style scoped>\n",
       "    .dataframe tbody tr th:only-of-type {\n",
       "        vertical-align: middle;\n",
       "    }\n",
       "\n",
       "    .dataframe tbody tr th {\n",
       "        vertical-align: top;\n",
       "    }\n",
       "\n",
       "    .dataframe thead th {\n",
       "        text-align: right;\n",
       "    }\n",
       "</style>\n",
       "<table border=\"1\" class=\"dataframe\">\n",
       "  <thead>\n",
       "    <tr style=\"text-align: right;\">\n",
       "      <th></th>\n",
       "      <th>Purchase</th>\n",
       "      <th>WeekofPurchase</th>\n",
       "      <th>StoreID</th>\n",
       "      <th>PriceCH</th>\n",
       "      <th>PriceMM</th>\n",
       "      <th>DiscCH</th>\n",
       "      <th>DiscMM</th>\n",
       "      <th>SpecialCH</th>\n",
       "      <th>SpecialMM</th>\n",
       "      <th>LoyalCH</th>\n",
       "      <th>SalePriceMM</th>\n",
       "      <th>SalePriceCH</th>\n",
       "      <th>PriceDiff</th>\n",
       "      <th>Store7</th>\n",
       "      <th>PctDiscMM</th>\n",
       "      <th>PctDiscCH</th>\n",
       "      <th>ListPriceDiff</th>\n",
       "      <th>STORE</th>\n",
       "    </tr>\n",
       "  </thead>\n",
       "  <tbody>\n",
       "    <tr>\n",
       "      <th>0</th>\n",
       "      <td>CH</td>\n",
       "      <td>237</td>\n",
       "      <td>1</td>\n",
       "      <td>1.75</td>\n",
       "      <td>1.99</td>\n",
       "      <td>0.00</td>\n",
       "      <td>0.0</td>\n",
       "      <td>0</td>\n",
       "      <td>0</td>\n",
       "      <td>0.500000</td>\n",
       "      <td>1.99</td>\n",
       "      <td>1.75</td>\n",
       "      <td>0.24</td>\n",
       "      <td>No</td>\n",
       "      <td>0.000000</td>\n",
       "      <td>0.000000</td>\n",
       "      <td>0.24</td>\n",
       "      <td>1</td>\n",
       "    </tr>\n",
       "    <tr>\n",
       "      <th>1</th>\n",
       "      <td>CH</td>\n",
       "      <td>239</td>\n",
       "      <td>1</td>\n",
       "      <td>1.75</td>\n",
       "      <td>1.99</td>\n",
       "      <td>0.00</td>\n",
       "      <td>0.3</td>\n",
       "      <td>0</td>\n",
       "      <td>1</td>\n",
       "      <td>0.600000</td>\n",
       "      <td>1.69</td>\n",
       "      <td>1.75</td>\n",
       "      <td>-0.06</td>\n",
       "      <td>No</td>\n",
       "      <td>0.150754</td>\n",
       "      <td>0.000000</td>\n",
       "      <td>0.24</td>\n",
       "      <td>1</td>\n",
       "    </tr>\n",
       "    <tr>\n",
       "      <th>2</th>\n",
       "      <td>CH</td>\n",
       "      <td>245</td>\n",
       "      <td>1</td>\n",
       "      <td>1.86</td>\n",
       "      <td>2.09</td>\n",
       "      <td>0.17</td>\n",
       "      <td>0.0</td>\n",
       "      <td>0</td>\n",
       "      <td>0</td>\n",
       "      <td>0.680000</td>\n",
       "      <td>2.09</td>\n",
       "      <td>1.69</td>\n",
       "      <td>0.40</td>\n",
       "      <td>No</td>\n",
       "      <td>0.000000</td>\n",
       "      <td>0.091398</td>\n",
       "      <td>0.23</td>\n",
       "      <td>1</td>\n",
       "    </tr>\n",
       "    <tr>\n",
       "      <th>3</th>\n",
       "      <td>MM</td>\n",
       "      <td>227</td>\n",
       "      <td>1</td>\n",
       "      <td>1.69</td>\n",
       "      <td>1.69</td>\n",
       "      <td>0.00</td>\n",
       "      <td>0.0</td>\n",
       "      <td>0</td>\n",
       "      <td>0</td>\n",
       "      <td>0.400000</td>\n",
       "      <td>1.69</td>\n",
       "      <td>1.69</td>\n",
       "      <td>0.00</td>\n",
       "      <td>No</td>\n",
       "      <td>0.000000</td>\n",
       "      <td>0.000000</td>\n",
       "      <td>0.00</td>\n",
       "      <td>1</td>\n",
       "    </tr>\n",
       "    <tr>\n",
       "      <th>4</th>\n",
       "      <td>CH</td>\n",
       "      <td>228</td>\n",
       "      <td>7</td>\n",
       "      <td>1.69</td>\n",
       "      <td>1.69</td>\n",
       "      <td>0.00</td>\n",
       "      <td>0.0</td>\n",
       "      <td>0</td>\n",
       "      <td>0</td>\n",
       "      <td>0.956535</td>\n",
       "      <td>1.69</td>\n",
       "      <td>1.69</td>\n",
       "      <td>0.00</td>\n",
       "      <td>Yes</td>\n",
       "      <td>0.000000</td>\n",
       "      <td>0.000000</td>\n",
       "      <td>0.00</td>\n",
       "      <td>0</td>\n",
       "    </tr>\n",
       "  </tbody>\n",
       "</table>\n",
       "</div>"
      ],
      "text/plain": [
       "  Purchase  WeekofPurchase  StoreID  PriceCH  PriceMM  DiscCH  DiscMM  \\\n",
       "0       CH             237        1     1.75     1.99    0.00     0.0   \n",
       "1       CH             239        1     1.75     1.99    0.00     0.3   \n",
       "2       CH             245        1     1.86     2.09    0.17     0.0   \n",
       "3       MM             227        1     1.69     1.69    0.00     0.0   \n",
       "4       CH             228        7     1.69     1.69    0.00     0.0   \n",
       "\n",
       "   SpecialCH  SpecialMM   LoyalCH  SalePriceMM  SalePriceCH  PriceDiff Store7  \\\n",
       "0          0          0  0.500000         1.99         1.75       0.24     No   \n",
       "1          0          1  0.600000         1.69         1.75      -0.06     No   \n",
       "2          0          0  0.680000         2.09         1.69       0.40     No   \n",
       "3          0          0  0.400000         1.69         1.69       0.00     No   \n",
       "4          0          0  0.956535         1.69         1.69       0.00    Yes   \n",
       "\n",
       "   PctDiscMM  PctDiscCH  ListPriceDiff  STORE  \n",
       "0   0.000000   0.000000           0.24      1  \n",
       "1   0.150754   0.000000           0.24      1  \n",
       "2   0.000000   0.091398           0.23      1  \n",
       "3   0.000000   0.000000           0.00      1  \n",
       "4   0.000000   0.000000           0.00      0  "
      ]
     },
     "execution_count": 3,
     "metadata": {},
     "output_type": "execute_result"
    }
   ],
   "source": [
    "OJ.head()"
   ]
  },
  {
   "cell_type": "markdown",
   "id": "f3642bdd",
   "metadata": {},
   "source": [
    "(a) Create a training set containing a random sample of 800 observations, and a test set containing the remaining observations.\n",
    "\n",
    "Your code:"
   ]
  },
  {
   "cell_type": "code",
   "execution_count": 10,
   "id": "b724ac1d",
   "metadata": {
    "Rmd_chunk_options": "echo=TRUE",
    "kernel": "Python3",
    "tags": [
     "report_cell"
    ]
   },
   "outputs": [],
   "source": [
    "np.random.RandomState(42)\n",
    "selIndex = np.random.randint(0, OJ.shape[0] - 1, 800)\n",
    "trainOJ = OJ.iloc[selIndex]\n",
    "testOJ = OJ.drop(selIndex)\n",
    "\n",
    "trainOJ_X = pd.get_dummies(trainOJ.drop(\"Purchase\", axis=1), drop_first=True)\n",
    "testOJ_X = pd.get_dummies(testOJ.drop(\"Purchase\", axis=1), drop_first=True)"
   ]
  },
  {
   "cell_type": "code",
   "execution_count": 11,
   "id": "e733edc2",
   "metadata": {},
   "outputs": [
    {
     "data": {
      "text/html": [
       "<div>\n",
       "<style scoped>\n",
       "    .dataframe tbody tr th:only-of-type {\n",
       "        vertical-align: middle;\n",
       "    }\n",
       "\n",
       "    .dataframe tbody tr th {\n",
       "        vertical-align: top;\n",
       "    }\n",
       "\n",
       "    .dataframe thead th {\n",
       "        text-align: right;\n",
       "    }\n",
       "</style>\n",
       "<table border=\"1\" class=\"dataframe\">\n",
       "  <thead>\n",
       "    <tr style=\"text-align: right;\">\n",
       "      <th></th>\n",
       "      <th>WeekofPurchase</th>\n",
       "      <th>StoreID</th>\n",
       "      <th>PriceCH</th>\n",
       "      <th>PriceMM</th>\n",
       "      <th>DiscCH</th>\n",
       "      <th>DiscMM</th>\n",
       "      <th>SpecialCH</th>\n",
       "      <th>SpecialMM</th>\n",
       "      <th>LoyalCH</th>\n",
       "      <th>SalePriceMM</th>\n",
       "      <th>SalePriceCH</th>\n",
       "      <th>PriceDiff</th>\n",
       "      <th>PctDiscMM</th>\n",
       "      <th>PctDiscCH</th>\n",
       "      <th>ListPriceDiff</th>\n",
       "      <th>STORE</th>\n",
       "      <th>Store7_Yes</th>\n",
       "    </tr>\n",
       "  </thead>\n",
       "  <tbody>\n",
       "    <tr>\n",
       "      <th>576</th>\n",
       "      <td>230</td>\n",
       "      <td>7</td>\n",
       "      <td>1.69</td>\n",
       "      <td>1.99</td>\n",
       "      <td>0.00</td>\n",
       "      <td>0.00</td>\n",
       "      <td>0</td>\n",
       "      <td>1</td>\n",
       "      <td>0.600000</td>\n",
       "      <td>1.99</td>\n",
       "      <td>1.69</td>\n",
       "      <td>0.30</td>\n",
       "      <td>0.000000</td>\n",
       "      <td>0.000000</td>\n",
       "      <td>0.30</td>\n",
       "      <td>0</td>\n",
       "      <td>1</td>\n",
       "    </tr>\n",
       "    <tr>\n",
       "      <th>16</th>\n",
       "      <td>240</td>\n",
       "      <td>1</td>\n",
       "      <td>1.75</td>\n",
       "      <td>1.99</td>\n",
       "      <td>0.00</td>\n",
       "      <td>0.30</td>\n",
       "      <td>0</td>\n",
       "      <td>1</td>\n",
       "      <td>0.500000</td>\n",
       "      <td>1.69</td>\n",
       "      <td>1.75</td>\n",
       "      <td>-0.06</td>\n",
       "      <td>0.150754</td>\n",
       "      <td>0.000000</td>\n",
       "      <td>0.24</td>\n",
       "      <td>1</td>\n",
       "      <td>0</td>\n",
       "    </tr>\n",
       "    <tr>\n",
       "      <th>309</th>\n",
       "      <td>270</td>\n",
       "      <td>2</td>\n",
       "      <td>1.86</td>\n",
       "      <td>2.18</td>\n",
       "      <td>0.00</td>\n",
       "      <td>0.00</td>\n",
       "      <td>0</td>\n",
       "      <td>0</td>\n",
       "      <td>0.339223</td>\n",
       "      <td>2.18</td>\n",
       "      <td>1.86</td>\n",
       "      <td>0.32</td>\n",
       "      <td>0.000000</td>\n",
       "      <td>0.000000</td>\n",
       "      <td>0.32</td>\n",
       "      <td>2</td>\n",
       "      <td>0</td>\n",
       "    </tr>\n",
       "    <tr>\n",
       "      <th>267</th>\n",
       "      <td>229</td>\n",
       "      <td>3</td>\n",
       "      <td>1.79</td>\n",
       "      <td>1.79</td>\n",
       "      <td>0.00</td>\n",
       "      <td>0.00</td>\n",
       "      <td>0</td>\n",
       "      <td>0</td>\n",
       "      <td>0.564800</td>\n",
       "      <td>1.79</td>\n",
       "      <td>1.79</td>\n",
       "      <td>0.00</td>\n",
       "      <td>0.000000</td>\n",
       "      <td>0.000000</td>\n",
       "      <td>0.00</td>\n",
       "      <td>3</td>\n",
       "      <td>0</td>\n",
       "    </tr>\n",
       "    <tr>\n",
       "      <th>904</th>\n",
       "      <td>277</td>\n",
       "      <td>7</td>\n",
       "      <td>1.99</td>\n",
       "      <td>2.13</td>\n",
       "      <td>0.50</td>\n",
       "      <td>0.00</td>\n",
       "      <td>0</td>\n",
       "      <td>1</td>\n",
       "      <td>0.778010</td>\n",
       "      <td>2.13</td>\n",
       "      <td>1.49</td>\n",
       "      <td>0.64</td>\n",
       "      <td>0.000000</td>\n",
       "      <td>0.251256</td>\n",
       "      <td>0.14</td>\n",
       "      <td>0</td>\n",
       "      <td>1</td>\n",
       "    </tr>\n",
       "    <tr>\n",
       "      <th>...</th>\n",
       "      <td>...</td>\n",
       "      <td>...</td>\n",
       "      <td>...</td>\n",
       "      <td>...</td>\n",
       "      <td>...</td>\n",
       "      <td>...</td>\n",
       "      <td>...</td>\n",
       "      <td>...</td>\n",
       "      <td>...</td>\n",
       "      <td>...</td>\n",
       "      <td>...</td>\n",
       "      <td>...</td>\n",
       "      <td>...</td>\n",
       "      <td>...</td>\n",
       "      <td>...</td>\n",
       "      <td>...</td>\n",
       "      <td>...</td>\n",
       "    </tr>\n",
       "    <tr>\n",
       "      <th>174</th>\n",
       "      <td>239</td>\n",
       "      <td>7</td>\n",
       "      <td>1.79</td>\n",
       "      <td>2.09</td>\n",
       "      <td>0.00</td>\n",
       "      <td>0.00</td>\n",
       "      <td>0</td>\n",
       "      <td>0</td>\n",
       "      <td>0.982408</td>\n",
       "      <td>2.09</td>\n",
       "      <td>1.79</td>\n",
       "      <td>0.30</td>\n",
       "      <td>0.000000</td>\n",
       "      <td>0.000000</td>\n",
       "      <td>0.30</td>\n",
       "      <td>0</td>\n",
       "      <td>1</td>\n",
       "    </tr>\n",
       "    <tr>\n",
       "      <th>819</th>\n",
       "      <td>274</td>\n",
       "      <td>7</td>\n",
       "      <td>1.86</td>\n",
       "      <td>2.13</td>\n",
       "      <td>0.47</td>\n",
       "      <td>0.54</td>\n",
       "      <td>1</td>\n",
       "      <td>0</td>\n",
       "      <td>0.985926</td>\n",
       "      <td>1.59</td>\n",
       "      <td>1.39</td>\n",
       "      <td>0.20</td>\n",
       "      <td>0.253521</td>\n",
       "      <td>0.252688</td>\n",
       "      <td>0.27</td>\n",
       "      <td>0</td>\n",
       "      <td>1</td>\n",
       "    </tr>\n",
       "    <tr>\n",
       "      <th>429</th>\n",
       "      <td>267</td>\n",
       "      <td>4</td>\n",
       "      <td>1.99</td>\n",
       "      <td>2.09</td>\n",
       "      <td>0.10</td>\n",
       "      <td>0.00</td>\n",
       "      <td>0</td>\n",
       "      <td>0</td>\n",
       "      <td>0.341687</td>\n",
       "      <td>2.09</td>\n",
       "      <td>1.89</td>\n",
       "      <td>0.20</td>\n",
       "      <td>0.000000</td>\n",
       "      <td>0.050251</td>\n",
       "      <td>0.10</td>\n",
       "      <td>4</td>\n",
       "      <td>0</td>\n",
       "    </tr>\n",
       "    <tr>\n",
       "      <th>902</th>\n",
       "      <td>274</td>\n",
       "      <td>7</td>\n",
       "      <td>1.86</td>\n",
       "      <td>2.13</td>\n",
       "      <td>0.47</td>\n",
       "      <td>0.54</td>\n",
       "      <td>1</td>\n",
       "      <td>0</td>\n",
       "      <td>0.965640</td>\n",
       "      <td>1.59</td>\n",
       "      <td>1.39</td>\n",
       "      <td>0.20</td>\n",
       "      <td>0.253521</td>\n",
       "      <td>0.252688</td>\n",
       "      <td>0.27</td>\n",
       "      <td>0</td>\n",
       "      <td>1</td>\n",
       "    </tr>\n",
       "    <tr>\n",
       "      <th>400</th>\n",
       "      <td>272</td>\n",
       "      <td>3</td>\n",
       "      <td>1.99</td>\n",
       "      <td>2.09</td>\n",
       "      <td>0.00</td>\n",
       "      <td>0.40</td>\n",
       "      <td>0</td>\n",
       "      <td>0</td>\n",
       "      <td>0.343577</td>\n",
       "      <td>1.69</td>\n",
       "      <td>1.99</td>\n",
       "      <td>-0.30</td>\n",
       "      <td>0.191388</td>\n",
       "      <td>0.000000</td>\n",
       "      <td>0.10</td>\n",
       "      <td>3</td>\n",
       "      <td>0</td>\n",
       "    </tr>\n",
       "  </tbody>\n",
       "</table>\n",
       "<p>800 rows × 17 columns</p>\n",
       "</div>"
      ],
      "text/plain": [
       "     WeekofPurchase  StoreID  PriceCH  PriceMM  DiscCH  DiscMM  SpecialCH  \\\n",
       "576             230        7     1.69     1.99    0.00    0.00          0   \n",
       "16              240        1     1.75     1.99    0.00    0.30          0   \n",
       "309             270        2     1.86     2.18    0.00    0.00          0   \n",
       "267             229        3     1.79     1.79    0.00    0.00          0   \n",
       "904             277        7     1.99     2.13    0.50    0.00          0   \n",
       "..              ...      ...      ...      ...     ...     ...        ...   \n",
       "174             239        7     1.79     2.09    0.00    0.00          0   \n",
       "819             274        7     1.86     2.13    0.47    0.54          1   \n",
       "429             267        4     1.99     2.09    0.10    0.00          0   \n",
       "902             274        7     1.86     2.13    0.47    0.54          1   \n",
       "400             272        3     1.99     2.09    0.00    0.40          0   \n",
       "\n",
       "     SpecialMM   LoyalCH  SalePriceMM  SalePriceCH  PriceDiff  PctDiscMM  \\\n",
       "576          1  0.600000         1.99         1.69       0.30   0.000000   \n",
       "16           1  0.500000         1.69         1.75      -0.06   0.150754   \n",
       "309          0  0.339223         2.18         1.86       0.32   0.000000   \n",
       "267          0  0.564800         1.79         1.79       0.00   0.000000   \n",
       "904          1  0.778010         2.13         1.49       0.64   0.000000   \n",
       "..         ...       ...          ...          ...        ...        ...   \n",
       "174          0  0.982408         2.09         1.79       0.30   0.000000   \n",
       "819          0  0.985926         1.59         1.39       0.20   0.253521   \n",
       "429          0  0.341687         2.09         1.89       0.20   0.000000   \n",
       "902          0  0.965640         1.59         1.39       0.20   0.253521   \n",
       "400          0  0.343577         1.69         1.99      -0.30   0.191388   \n",
       "\n",
       "     PctDiscCH  ListPriceDiff  STORE  Store7_Yes  \n",
       "576   0.000000           0.30      0           1  \n",
       "16    0.000000           0.24      1           0  \n",
       "309   0.000000           0.32      2           0  \n",
       "267   0.000000           0.00      3           0  \n",
       "904   0.251256           0.14      0           1  \n",
       "..         ...            ...    ...         ...  \n",
       "174   0.000000           0.30      0           1  \n",
       "819   0.252688           0.27      0           1  \n",
       "429   0.050251           0.10      4           0  \n",
       "902   0.252688           0.27      0           1  \n",
       "400   0.000000           0.10      3           0  \n",
       "\n",
       "[800 rows x 17 columns]"
      ]
     },
     "execution_count": 11,
     "metadata": {},
     "output_type": "execute_result"
    }
   ],
   "source": [
    "trainOJ_X"
   ]
  },
  {
   "cell_type": "markdown",
   "id": "d7303a57",
   "metadata": {},
   "source": [
    "Your answer:\n",
    "\n",
    "~~~\n",
    "Please write your answer in full sentences.\n",
    "\n",
    "\n",
    "~~~\n",
    "\n",
    "(b) Fit a tree to the training data, with Purchase as the response\n",
    "and the other variables as predictors. What is the training error\n",
    "rate?\n",
    "\n",
    "Your code:"
   ]
  },
  {
   "cell_type": "code",
   "execution_count": 18,
   "id": "3b4ea6cb",
   "metadata": {
    "Rmd_chunk_options": "echo=TRUE",
    "kernel": "Python3",
    "tags": [
     "report_cell"
    ]
   },
   "outputs": [
    {
     "name": "stdout",
     "output_type": "stream",
     "text": [
      "Misclassification Rate:  22.99%\n"
     ]
    }
   ],
   "source": [
    "from sklearn.tree import DecisionTreeClassifier\n",
    "OJtree = DecisionTreeClassifier()\n",
    "OJtree.fit(trainOJ_X, trainOJ.loc[:,\"Purchase\"])\n",
    "trainingErrRate = sum(OJtree.predict(testOJ_X) != testOJ.loc[:,\"Purchase\"])/testOJ.shape[0]\n",
    "print(f'Misclassification Rate: {trainingErrRate * 100 : .2f}%')"
   ]
  },
  {
   "cell_type": "markdown",
   "id": "30f801b0",
   "metadata": {},
   "source": [
    "Your answer:\n",
    "\n",
    "~~~\n",
    "Please write your answer in full sentences.\n",
    "\n",
    "\n",
    "~~~\n",
    "\n",
    "(c) Create a plot of the tree, and interpret the results. How many terminal nodes does the tree have?\n",
    "Your code:"
   ]
  },
  {
   "cell_type": "code",
   "execution_count": 81,
   "id": "b8b23b38",
   "metadata": {
    "Rmd_chunk_options": "echo=TRUE",
    "kernel": "Python3",
    "tags": [
     "report_cell"
    ]
   },
   "outputs": [
    {
     "data": {
      "image/png": "[encoded data removed]",
      "text/plain": [
       "<Figure size 1200x800 with 1 Axes>"
      ]
     },
     "metadata": {},
     "output_type": "display_data"
    }
   ],
   "source": [
    "import matplotlib.pyplot as plt\n",
    "from sklearn import tree\n",
    "\n",
    "plt.figure(figsize=(12, 8))\n",
    "tree.plot_tree(OJtree, filled=True)\n",
    "plt.show()\n"
   ]
  },
  {
   "cell_type": "code",
   "execution_count": 20,
   "id": "f1b19fdc",
   "metadata": {},
   "outputs": [
    {
     "name": "stdout",
     "output_type": "stream",
     "text": [
      "Number of nodes in the tree: 237\n"
     ]
    }
   ],
   "source": [
    "num_nodes = OJtree.tree_.node_count\n",
    "print(f\"Number of nodes in the tree: {num_nodes}\")\n"
   ]
  },
  {
   "cell_type": "markdown",
   "id": "26ca7eb5",
   "metadata": {},
   "source": [
    "Your answer:\n",
    "\n",
    "~~~\n",
    "Please write your answer in full sentences.\n",
    "\n",
    "\n",
    "~~~\n",
    "\n",
    "(d) Use the export_tree() function to produce a text summary of\n",
    "the fitted tree. Pick one of the terminal nodes, and interpret the\n",
    "information displayed."
   ]
  },
  {
   "cell_type": "code",
   "execution_count": 33,
   "id": "2f80b15c",
   "metadata": {
    "kernel": "Python3",
    "tags": [
     "report_cell"
    ]
   },
   "outputs": [
    {
     "name": "stdout",
     "output_type": "stream",
     "text": [
      "|--- LoyalCH <= 0.49\n",
      "|   |--- LoyalCH <= 0.28\n",
      "|   |   |--- STORE <= 1.50\n",
      "|   |   |   |--- WeekofPurchase <= 235.50\n",
      "|   |   |   |   |--- SpecialMM <= 0.50\n",
      "|   |   |   |   |   |--- SpecialCH <= 0.50\n",
      "|   |   |   |   |   |   |--- class: CH\n",
      "|   |   |   |   |   |--- SpecialCH >  0.50\n",
      "|   |   |   |   |   |   |--- LoyalCH <= 0.22\n",
      "|   |   |   |   |   |   |   |--- class: CH\n",
      "|   |   |   |   |   |   |--- LoyalCH >  0.22\n",
      "|   |   |   |   |   |   |   |--- class: MM\n",
      "|   |   |   |   |--- SpecialMM >  0.50\n",
      "|   |   |   |   |   |--- class: MM\n",
      "|   |   |   |--- WeekofPurchase >  235.50\n",
      "|   |   |   |   |--- SalePriceCH <= 1.62\n",
      "|   |   |   |   |   |--- class: CH\n",
      "|   |   |   |   |--- SalePriceCH >  1.62\n",
      "|   |   |   |   |   |--- LoyalCH <= 0.04\n",
      "|   |   |   |   |   |   |--- ListPriceDiff <= 0.22\n",
      "|   |   |   |   |   |   |   |--- class: CH\n",
      "|   |   |   |   |   |   |--- ListPriceDiff >  0.22\n",
      "|   |   |   |   |   |   |   |--- class: MM\n",
      "|   |   |   |   |   |--- LoyalCH >  0.04\n",
      "|   |   |   |   |   |   |--- PriceDiff <= 0.23\n",
      "|   |   |   |   |   |   |   |--- class: MM\n",
      "|   |   |   |   |   |   |--- PriceDiff >  0.23\n",
      "|   |   |   |   |   |   |   |--- LoyalCH <= 0.18\n",
      "|   |   |   |   |   |   |   |   |--- PriceMM <= 2.04\n",
      "|   |   |   |   |   |   |   |   |   |--- class: CH\n",
      "|   |   |   |   |   |   |   |   |--- PriceMM >  2.04\n",
      "|   |   |   |   |   |   |   |   |   |--- class: MM\n",
      "|   |   |   |   |   |   |   |--- LoyalCH >  0.18\n",
      "|   |   |   |   |   |   |   |   |--- class: CH\n",
      "|   |   |--- STORE >  1.50\n",
      "|   |   |   |--- LoyalCH <= 0.12\n",
      "|   |   |   |   |--- class: MM\n",
      "|   |   |   |--- LoyalCH >  0.12\n",
      "|   |   |   |   |--- SalePriceMM <= 2.10\n",
      "|   |   |   |   |   |--- PriceCH <= 1.98\n",
      "|   |   |   |   |   |   |--- class: MM\n",
      "|   |   |   |   |   |--- PriceCH >  1.98\n",
      "|   |   |   |   |   |   |--- WeekofPurchase <= 269.50\n",
      "|   |   |   |   |   |   |   |--- class: CH\n",
      "|   |   |   |   |   |   |--- WeekofPurchase >  269.50\n",
      "|   |   |   |   |   |   |   |--- class: MM\n",
      "|   |   |   |   |--- SalePriceMM >  2.10\n",
      "|   |   |   |   |   |--- LoyalCH <= 0.25\n",
      "|   |   |   |   |   |   |--- WeekofPurchase <= 272.50\n",
      "|   |   |   |   |   |   |   |--- class: CH\n",
      "|   |   |   |   |   |   |--- WeekofPurchase >  272.50\n",
      "|   |   |   |   |   |   |   |--- class: MM\n",
      "|   |   |   |   |   |--- LoyalCH >  0.25\n",
      "|   |   |   |   |   |   |--- WeekofPurchase <= 272.50\n",
      "|   |   |   |   |   |   |   |--- class: MM\n",
      "|   |   |   |   |   |   |--- WeekofPurchase >  272.50\n",
      "|   |   |   |   |   |   |   |--- class: CH\n",
      "|   |--- LoyalCH >  0.28\n",
      "|   |   |--- PriceDiff <= 0.25\n",
      "|   |   |   |--- SpecialCH <= 0.50\n",
      "|   |   |   |   |--- WeekofPurchase <= 276.50\n",
      "|   |   |   |   |   |--- LoyalCH <= 0.30\n",
      "|   |   |   |   |   |   |--- PriceMM <= 1.89\n",
      "|   |   |   |   |   |   |   |--- class: MM\n",
      "|   |   |   |   |   |   |--- PriceMM >  1.89\n",
      "|   |   |   |   |   |   |   |--- class: CH\n",
      "|   |   |   |   |   |--- LoyalCH >  0.30\n",
      "|   |   |   |   |   |   |--- WeekofPurchase <= 227.50\n",
      "|   |   |   |   |   |   |   |--- SalePriceMM <= 1.74\n",
      "|   |   |   |   |   |   |   |   |--- class: MM\n",
      "|   |   |   |   |   |   |   |--- SalePriceMM >  1.74\n",
      "|   |   |   |   |   |   |   |   |--- class: CH\n",
      "|   |   |   |   |   |   |--- WeekofPurchase >  227.50\n",
      "|   |   |   |   |   |   |   |--- PriceMM <= 2.04\n",
      "|   |   |   |   |   |   |   |   |--- SalePriceMM <= 1.84\n",
      "|   |   |   |   |   |   |   |   |   |--- STORE <= 2.50\n",
      "|   |   |   |   |   |   |   |   |   |   |--- class: MM\n",
      "|   |   |   |   |   |   |   |   |   |--- STORE >  2.50\n",
      "|   |   |   |   |   |   |   |   |   |   |--- StoreID <= 3.50\n",
      "|   |   |   |   |   |   |   |   |   |   |   |--- truncated branch of depth 2\n",
      "|   |   |   |   |   |   |   |   |   |   |--- StoreID >  3.50\n",
      "|   |   |   |   |   |   |   |   |   |   |   |--- class: MM\n",
      "|   |   |   |   |   |   |   |   |--- SalePriceMM >  1.84\n",
      "|   |   |   |   |   |   |   |   |   |--- LoyalCH <= 0.41\n",
      "|   |   |   |   |   |   |   |   |   |   |--- class: MM\n",
      "|   |   |   |   |   |   |   |   |   |--- LoyalCH >  0.41\n",
      "|   |   |   |   |   |   |   |   |   |   |--- class: CH\n",
      "|   |   |   |   |   |   |   |--- PriceMM >  2.04\n",
      "|   |   |   |   |   |   |   |   |--- class: MM\n",
      "|   |   |   |   |--- WeekofPurchase >  276.50\n",
      "|   |   |   |   |   |--- LoyalCH <= 0.43\n",
      "|   |   |   |   |   |   |--- class: CH\n",
      "|   |   |   |   |   |--- LoyalCH >  0.43\n",
      "|   |   |   |   |   |   |--- class: MM\n",
      "|   |   |   |--- SpecialCH >  0.50\n",
      "|   |   |   |   |--- PriceDiff <= -0.13\n",
      "|   |   |   |   |   |--- LoyalCH <= 0.37\n",
      "|   |   |   |   |   |   |--- class: MM\n",
      "|   |   |   |   |   |--- LoyalCH >  0.37\n",
      "|   |   |   |   |   |   |--- LoyalCH <= 0.39\n",
      "|   |   |   |   |   |   |   |--- class: CH\n",
      "|   |   |   |   |   |   |--- LoyalCH >  0.39\n",
      "|   |   |   |   |   |   |   |--- WeekofPurchase <= 252.00\n",
      "|   |   |   |   |   |   |   |   |--- class: MM\n",
      "|   |   |   |   |   |   |   |--- WeekofPurchase >  252.00\n",
      "|   |   |   |   |   |   |   |   |--- class: CH\n",
      "|   |   |   |   |--- PriceDiff >  -0.13\n",
      "|   |   |   |   |   |--- class: CH\n",
      "|   |   |--- PriceDiff >  0.25\n",
      "|   |   |   |--- WeekofPurchase <= 265.50\n",
      "|   |   |   |   |--- LoyalCH <= 0.41\n",
      "|   |   |   |   |   |--- SalePriceMM <= 2.21\n",
      "|   |   |   |   |   |   |--- PriceCH <= 1.73\n",
      "|   |   |   |   |   |   |   |--- LoyalCH <= 0.40\n",
      "|   |   |   |   |   |   |   |   |--- class: MM\n",
      "|   |   |   |   |   |   |   |--- LoyalCH >  0.40\n",
      "|   |   |   |   |   |   |   |   |--- class: CH\n",
      "|   |   |   |   |   |   |--- PriceCH >  1.73\n",
      "|   |   |   |   |   |   |   |--- class: CH\n",
      "|   |   |   |   |   |--- SalePriceMM >  2.21\n",
      "|   |   |   |   |   |   |--- LoyalCH <= 0.38\n",
      "|   |   |   |   |   |   |   |--- class: MM\n",
      "|   |   |   |   |   |   |--- LoyalCH >  0.38\n",
      "|   |   |   |   |   |   |   |--- PriceMM <= 2.26\n",
      "|   |   |   |   |   |   |   |   |--- class: MM\n",
      "|   |   |   |   |   |   |   |--- PriceMM >  2.26\n",
      "|   |   |   |   |   |   |   |   |--- class: CH\n",
      "|   |   |   |   |--- LoyalCH >  0.41\n",
      "|   |   |   |   |   |--- ListPriceDiff <= 0.33\n",
      "|   |   |   |   |   |   |--- LoyalCH <= 0.48\n",
      "|   |   |   |   |   |   |   |--- class: MM\n",
      "|   |   |   |   |   |   |--- LoyalCH >  0.48\n",
      "|   |   |   |   |   |   |   |--- class: CH\n",
      "|   |   |   |   |   |--- ListPriceDiff >  0.33\n",
      "|   |   |   |   |   |   |--- class: CH\n",
      "|   |   |   |--- WeekofPurchase >  265.50\n",
      "|   |   |   |   |--- LoyalCH <= 0.43\n",
      "|   |   |   |   |   |--- LoyalCH <= 0.39\n",
      "|   |   |   |   |   |   |--- LoyalCH <= 0.34\n",
      "|   |   |   |   |   |   |   |--- DiscCH <= 0.25\n",
      "|   |   |   |   |   |   |   |   |--- class: MM\n",
      "|   |   |   |   |   |   |   |--- DiscCH >  0.25\n",
      "|   |   |   |   |   |   |   |   |--- class: CH\n",
      "|   |   |   |   |   |   |--- LoyalCH >  0.34\n",
      "|   |   |   |   |   |   |   |--- class: CH\n",
      "|   |   |   |   |   |--- LoyalCH >  0.39\n",
      "|   |   |   |   |   |   |--- class: MM\n",
      "|   |   |   |   |--- LoyalCH >  0.43\n",
      "|   |   |   |   |   |--- class: CH\n",
      "|--- LoyalCH >  0.49\n",
      "|   |--- PriceDiff <= -0.39\n",
      "|   |   |--- STORE <= 3.50\n",
      "|   |   |   |--- LoyalCH <= 0.98\n",
      "|   |   |   |   |--- LoyalCH <= 0.69\n",
      "|   |   |   |   |   |--- StoreID <= 1.50\n",
      "|   |   |   |   |   |   |--- class: CH\n",
      "|   |   |   |   |   |--- StoreID >  1.50\n",
      "|   |   |   |   |   |   |--- class: MM\n",
      "|   |   |   |   |--- LoyalCH >  0.69\n",
      "|   |   |   |   |   |--- class: MM\n",
      "|   |   |   |--- LoyalCH >  0.98\n",
      "|   |   |   |   |--- SpecialMM <= 0.50\n",
      "|   |   |   |   |   |--- LoyalCH <= 1.00\n",
      "|   |   |   |   |   |   |--- class: MM\n",
      "|   |   |   |   |   |--- LoyalCH >  1.00\n",
      "|   |   |   |   |   |   |--- class: CH\n",
      "|   |   |   |   |--- SpecialMM >  0.50\n",
      "|   |   |   |   |   |--- class: CH\n",
      "|   |   |--- STORE >  3.50\n",
      "|   |   |   |--- class: CH\n",
      "|   |--- PriceDiff >  -0.39\n",
      "|   |   |--- LoyalCH <= 0.62\n",
      "|   |   |   |--- PriceDiff <= 0.14\n",
      "|   |   |   |   |--- Store7_Yes <= 0.50\n",
      "|   |   |   |   |   |--- SalePriceMM <= 1.54\n",
      "|   |   |   |   |   |   |--- class: CH\n",
      "|   |   |   |   |   |--- SalePriceMM >  1.54\n",
      "|   |   |   |   |   |   |--- StoreID <= 1.50\n",
      "|   |   |   |   |   |   |   |--- class: MM\n",
      "|   |   |   |   |   |   |--- StoreID >  1.50\n",
      "|   |   |   |   |   |   |   |--- ListPriceDiff <= 0.17\n",
      "|   |   |   |   |   |   |   |   |--- STORE <= 3.50\n",
      "|   |   |   |   |   |   |   |   |   |--- class: MM\n",
      "|   |   |   |   |   |   |   |   |--- STORE >  3.50\n",
      "|   |   |   |   |   |   |   |   |   |--- LoyalCH <= 0.60\n",
      "|   |   |   |   |   |   |   |   |   |   |--- SalePriceMM <= 1.94\n",
      "|   |   |   |   |   |   |   |   |   |   |   |--- truncated branch of depth 3\n",
      "|   |   |   |   |   |   |   |   |   |   |--- SalePriceMM >  1.94\n",
      "|   |   |   |   |   |   |   |   |   |   |   |--- class: CH\n",
      "|   |   |   |   |   |   |   |   |   |--- LoyalCH >  0.60\n",
      "|   |   |   |   |   |   |   |   |   |   |--- class: MM\n",
      "|   |   |   |   |   |   |   |--- ListPriceDiff >  0.17\n",
      "|   |   |   |   |   |   |   |   |--- class: CH\n",
      "|   |   |   |   |--- Store7_Yes >  0.50\n",
      "|   |   |   |   |   |--- LoyalCH <= 0.51\n",
      "|   |   |   |   |   |   |--- PctDiscMM <= 0.16\n",
      "|   |   |   |   |   |   |   |--- class: MM\n",
      "|   |   |   |   |   |   |--- PctDiscMM >  0.16\n",
      "|   |   |   |   |   |   |   |--- WeekofPurchase <= 233.50\n",
      "|   |   |   |   |   |   |   |   |--- class: CH\n",
      "|   |   |   |   |   |   |   |--- WeekofPurchase >  233.50\n",
      "|   |   |   |   |   |   |   |   |--- class: MM\n",
      "|   |   |   |   |   |--- LoyalCH >  0.51\n",
      "|   |   |   |   |   |   |--- PriceDiff <= 0.05\n",
      "|   |   |   |   |   |   |   |--- SpecialCH <= 0.50\n",
      "|   |   |   |   |   |   |   |   |--- class: CH\n",
      "|   |   |   |   |   |   |   |--- SpecialCH >  0.50\n",
      "|   |   |   |   |   |   |   |   |--- WeekofPurchase <= 233.50\n",
      "|   |   |   |   |   |   |   |   |   |--- class: CH\n",
      "|   |   |   |   |   |   |   |   |--- WeekofPurchase >  233.50\n",
      "|   |   |   |   |   |   |   |   |   |--- class: MM\n",
      "|   |   |   |   |   |   |--- PriceDiff >  0.05\n",
      "|   |   |   |   |   |   |   |--- class: MM\n",
      "|   |   |   |--- PriceDiff >  0.14\n",
      "|   |   |   |   |--- StoreID <= 5.50\n",
      "|   |   |   |   |   |--- WeekofPurchase <= 268.00\n",
      "|   |   |   |   |   |   |--- PriceDiff <= 0.22\n",
      "|   |   |   |   |   |   |   |--- STORE <= 2.50\n",
      "|   |   |   |   |   |   |   |   |--- class: MM\n",
      "|   |   |   |   |   |   |   |--- STORE >  2.50\n",
      "|   |   |   |   |   |   |   |   |--- class: MM\n",
      "|   |   |   |   |   |   |--- PriceDiff >  0.22\n",
      "|   |   |   |   |   |   |   |--- WeekofPurchase <= 260.00\n",
      "|   |   |   |   |   |   |   |   |--- WeekofPurchase <= 244.00\n",
      "|   |   |   |   |   |   |   |   |   |--- LoyalCH <= 0.60\n",
      "|   |   |   |   |   |   |   |   |   |   |--- LoyalCH <= 0.56\n",
      "|   |   |   |   |   |   |   |   |   |   |   |--- truncated branch of depth 4\n",
      "|   |   |   |   |   |   |   |   |   |   |--- LoyalCH >  0.56\n",
      "|   |   |   |   |   |   |   |   |   |   |   |--- class: CH\n",
      "|   |   |   |   |   |   |   |   |   |--- LoyalCH >  0.60\n",
      "|   |   |   |   |   |   |   |   |   |   |--- StoreID <= 2.50\n",
      "|   |   |   |   |   |   |   |   |   |   |   |--- class: MM\n",
      "|   |   |   |   |   |   |   |   |   |   |--- StoreID >  2.50\n",
      "|   |   |   |   |   |   |   |   |   |   |   |--- class: CH\n",
      "|   |   |   |   |   |   |   |   |--- WeekofPurchase >  244.00\n",
      "|   |   |   |   |   |   |   |   |   |--- PriceMM <= 2.26\n",
      "|   |   |   |   |   |   |   |   |   |   |--- class: CH\n",
      "|   |   |   |   |   |   |   |   |   |--- PriceMM >  2.26\n",
      "|   |   |   |   |   |   |   |   |   |   |--- LoyalCH <= 0.56\n",
      "|   |   |   |   |   |   |   |   |   |   |   |--- class: CH\n",
      "|   |   |   |   |   |   |   |   |   |   |--- LoyalCH >  0.56\n",
      "|   |   |   |   |   |   |   |   |   |   |   |--- class: MM\n",
      "|   |   |   |   |   |   |   |--- WeekofPurchase >  260.00\n",
      "|   |   |   |   |   |   |   |   |--- class: MM\n",
      "|   |   |   |   |   |--- WeekofPurchase >  268.00\n",
      "|   |   |   |   |   |   |--- class: CH\n",
      "|   |   |   |   |--- StoreID >  5.50\n",
      "|   |   |   |   |   |--- class: CH\n",
      "|   |   |--- LoyalCH >  0.62\n",
      "|   |   |   |--- WeekofPurchase <= 237.50\n",
      "|   |   |   |   |--- LoyalCH <= 0.97\n",
      "|   |   |   |   |   |--- LoyalCH <= 0.76\n",
      "|   |   |   |   |   |   |--- LoyalCH <= 0.68\n",
      "|   |   |   |   |   |   |   |--- class: CH\n",
      "|   |   |   |   |   |   |--- LoyalCH >  0.68\n",
      "|   |   |   |   |   |   |   |--- SalePriceMM <= 1.64\n",
      "|   |   |   |   |   |   |   |   |--- LoyalCH <= 0.71\n",
      "|   |   |   |   |   |   |   |   |   |--- WeekofPurchase <= 231.50\n",
      "|   |   |   |   |   |   |   |   |   |   |--- class: CH\n",
      "|   |   |   |   |   |   |   |   |   |--- WeekofPurchase >  231.50\n",
      "|   |   |   |   |   |   |   |   |   |   |--- class: MM\n",
      "|   |   |   |   |   |   |   |   |--- LoyalCH >  0.71\n",
      "|   |   |   |   |   |   |   |   |   |--- class: CH\n",
      "|   |   |   |   |   |   |   |--- SalePriceMM >  1.64\n",
      "|   |   |   |   |   |   |   |   |--- SalePriceCH <= 1.77\n",
      "|   |   |   |   |   |   |   |   |   |--- class: MM\n",
      "|   |   |   |   |   |   |   |   |--- SalePriceCH >  1.77\n",
      "|   |   |   |   |   |   |   |   |   |--- class: CH\n",
      "|   |   |   |   |   |--- LoyalCH >  0.76\n",
      "|   |   |   |   |   |   |--- class: CH\n",
      "|   |   |   |   |--- LoyalCH >  0.97\n",
      "|   |   |   |   |   |--- WeekofPurchase <= 235.00\n",
      "|   |   |   |   |   |   |--- class: CH\n",
      "|   |   |   |   |   |--- WeekofPurchase >  235.00\n",
      "|   |   |   |   |   |   |--- class: MM\n",
      "|   |   |   |--- WeekofPurchase >  237.50\n",
      "|   |   |   |   |--- STORE <= 1.50\n",
      "|   |   |   |   |   |--- WeekofPurchase <= 240.50\n",
      "|   |   |   |   |   |   |--- LoyalCH <= 0.97\n",
      "|   |   |   |   |   |   |   |--- LoyalCH <= 0.93\n",
      "|   |   |   |   |   |   |   |   |--- class: CH\n",
      "|   |   |   |   |   |   |   |--- LoyalCH >  0.93\n",
      "|   |   |   |   |   |   |   |   |--- class: MM\n",
      "|   |   |   |   |   |   |--- LoyalCH >  0.97\n",
      "|   |   |   |   |   |   |   |--- class: CH\n",
      "|   |   |   |   |   |--- WeekofPurchase >  240.50\n",
      "|   |   |   |   |   |   |--- class: CH\n",
      "|   |   |   |   |--- STORE >  1.50\n",
      "|   |   |   |   |   |--- SpecialCH <= 0.50\n",
      "|   |   |   |   |   |   |--- WeekofPurchase <= 263.50\n",
      "|   |   |   |   |   |   |   |--- SalePriceMM <= 2.26\n",
      "|   |   |   |   |   |   |   |   |--- class: CH\n",
      "|   |   |   |   |   |   |   |--- SalePriceMM >  2.26\n",
      "|   |   |   |   |   |   |   |   |--- LoyalCH <= 0.84\n",
      "|   |   |   |   |   |   |   |   |   |--- WeekofPurchase <= 257.00\n",
      "|   |   |   |   |   |   |   |   |   |   |--- class: CH\n",
      "|   |   |   |   |   |   |   |   |   |--- WeekofPurchase >  257.00\n",
      "|   |   |   |   |   |   |   |   |   |   |--- class: MM\n",
      "|   |   |   |   |   |   |   |   |--- LoyalCH >  0.84\n",
      "|   |   |   |   |   |   |   |   |   |--- class: CH\n",
      "|   |   |   |   |   |   |--- WeekofPurchase >  263.50\n",
      "|   |   |   |   |   |   |   |--- PriceDiff <= 0.23\n",
      "|   |   |   |   |   |   |   |   |--- LoyalCH <= 0.95\n",
      "|   |   |   |   |   |   |   |   |   |--- LoyalCH <= 0.92\n",
      "|   |   |   |   |   |   |   |   |   |   |--- LoyalCH <= 0.87\n",
      "|   |   |   |   |   |   |   |   |   |   |   |--- class: CH\n",
      "|   |   |   |   |   |   |   |   |   |   |--- LoyalCH >  0.87\n",
      "|   |   |   |   |   |   |   |   |   |   |   |--- truncated branch of depth 2\n",
      "|   |   |   |   |   |   |   |   |   |--- LoyalCH >  0.92\n",
      "|   |   |   |   |   |   |   |   |   |   |--- class: MM\n",
      "|   |   |   |   |   |   |   |   |--- LoyalCH >  0.95\n",
      "|   |   |   |   |   |   |   |   |   |--- class: CH\n",
      "|   |   |   |   |   |   |   |--- PriceDiff >  0.23\n",
      "|   |   |   |   |   |   |   |   |--- LoyalCH <= 0.98\n",
      "|   |   |   |   |   |   |   |   |   |--- WeekofPurchase <= 271.50\n",
      "|   |   |   |   |   |   |   |   |   |   |--- class: CH\n",
      "|   |   |   |   |   |   |   |   |   |--- WeekofPurchase >  271.50\n",
      "|   |   |   |   |   |   |   |   |   |   |--- class: MM\n",
      "|   |   |   |   |   |   |   |   |--- LoyalCH >  0.98\n",
      "|   |   |   |   |   |   |   |   |   |--- class: MM\n",
      "|   |   |   |   |   |--- SpecialCH >  0.50\n",
      "|   |   |   |   |   |   |--- LoyalCH <= 0.90\n",
      "|   |   |   |   |   |   |   |--- SalePriceMM <= 1.99\n",
      "|   |   |   |   |   |   |   |   |--- LoyalCH <= 0.68\n",
      "|   |   |   |   |   |   |   |   |   |--- class: MM\n",
      "|   |   |   |   |   |   |   |   |--- LoyalCH >  0.68\n",
      "|   |   |   |   |   |   |   |   |   |--- class: CH\n",
      "|   |   |   |   |   |   |   |--- SalePriceMM >  1.99\n",
      "|   |   |   |   |   |   |   |   |--- class: MM\n",
      "|   |   |   |   |   |   |--- LoyalCH >  0.90\n",
      "|   |   |   |   |   |   |   |--- class: CH\n",
      "\n"
     ]
    }
   ],
   "source": [
    "from sklearn.tree import export_text\n",
    "tree_text = export_text(OJtree, feature_names=list(trainOJ_X.columns))\n",
    "print(tree_text)"
   ]
  },
  {
   "cell_type": "code",
   "execution_count": 52,
   "id": "dc591b87",
   "metadata": {},
   "outputs": [
    {
     "name": "stdout",
     "output_type": "stream",
     "text": [
      "|   |   |   |   |   |--- SpecialCH <= 0.50\n"
     ]
    }
   ],
   "source": [
    "lines = tree_text.split('\\n')\n",
    "sel_terminal_nodes = [lines[i-1] for i, line in enumerate(lines) if i > 0 and '|--- class' in line]\n",
    "print(sel_terminal_nodes[0])\n"
   ]
  },
  {
   "cell_type": "markdown",
   "id": "5d202a94",
   "metadata": {},
   "source": [
    "So the one of the terminal node is to split the data by `SpecialCH` at 0.5."
   ]
  },
  {
   "cell_type": "markdown",
   "id": "0f3434b5",
   "metadata": {},
   "source": [
    "(e) Predict the response on the test data, and produce a confusion\n",
    "matrix comparing the test labels to the predicted test labels.\n",
    "What is the test error rate?\n",
    "\n",
    "Your code:"
   ]
  },
  {
   "cell_type": "code",
   "execution_count": 53,
   "id": "eb630622",
   "metadata": {
    "Rmd_chunk_options": "echo=TRUE",
    "kernel": "Python3",
    "tags": [
     "report_cell"
    ]
   },
   "outputs": [
    {
     "name": "stdout",
     "output_type": "stream",
     "text": [
      "[[257  60]\n",
      " [ 57 135]]\n",
      "Test Error Rate: 22.99%\n"
     ]
    }
   ],
   "source": [
    "from sklearn.metrics import confusion_matrix\n",
    "\n",
    "y_pred = OJtree.predict(testOJ_X)\n",
    "\n",
    "cm = confusion_matrix(testOJ.loc[:, \"Purchase\"], y_pred)\n",
    "print(cm)\n",
    "\n",
    "test_error_rate = (cm[0, 1] + cm[1, 0]) / cm.sum()\n",
    "print(f\"Test Error Rate: {test_error_rate * 100:.2f}%\")\n"
   ]
  },
  {
   "cell_type": "markdown",
   "id": "66ec0679",
   "metadata": {},
   "source": [
    "Your answer:\n",
    "\n",
    "~~~\n",
    "Please write your answer in full sentences.\n",
    "\n",
    "\n",
    "~~~\n",
    "\n",
    "(f) Use cross-validation on the training set in order to determine\n",
    "the optimal tree size.\n",
    "Your code:"
   ]
  },
  {
   "cell_type": "code",
   "execution_count": 54,
   "id": "37359959",
   "metadata": {
    "Rmd_chunk_options": "echo=TRUE",
    "kernel": "Python3",
    "tags": [
     "report_cell"
    ]
   },
   "outputs": [
    {
     "name": "stdout",
     "output_type": "stream",
     "text": [
      "The optimal tree size (max_depth) is: 9\n"
     ]
    }
   ],
   "source": [
    "from sklearn.model_selection import GridSearchCV\n",
    "from sklearn.tree import DecisionTreeClassifier\n",
    "\n",
    "param_grid = {'max_depth': range(1, 10)}\n",
    "treeCV = DecisionTreeClassifier()\n",
    "\n",
    "grid_search = GridSearchCV(treeCV, param_grid, cv=5)\n",
    "\n",
    "grid_search.fit(trainOJ_X, trainOJ['Purchase'])\n",
    "\n",
    "best_max_depth = grid_search.best_params_['max_depth']\n",
    "\n",
    "print(f\"The optimal tree size (max_depth) is: {best_max_depth}\")\n"
   ]
  },
  {
   "cell_type": "markdown",
   "id": "3d54c5e8",
   "metadata": {},
   "source": [
    "Your answer:\n",
    "\n",
    "~~~\n",
    "Please write your answer in full sentences.\n",
    "\n",
    "\n",
    "~~~\n",
    "\n",
    "(g) Produce a plot with tree size on the x-axis and cross-validated\n",
    "classification error rate on the y-axis.\n",
    "Your code:"
   ]
  },
  {
   "cell_type": "code",
   "execution_count": 77,
   "id": "f741a0ce",
   "metadata": {},
   "outputs": [
    {
     "data": {
      "text/plain": [
       "[1, 2, 3, 4, 5, 6, 7, 8, 9]"
      ]
     },
     "execution_count": 77,
     "metadata": {},
     "output_type": "execute_result"
    }
   ],
   "source": [
    "[list(i.values())[0] for i in grid_search.cv_results_['params']]"
   ]
  },
  {
   "cell_type": "code",
   "execution_count": 78,
   "id": "2a4aa076",
   "metadata": {
    "Rmd_chunk_options": "echo=TRUE",
    "kernel": "Python3",
    "tags": [
     "report_cell"
    ]
   },
   "outputs": [
    {
     "data": {
      "image/png": "[encoded data removed]",
      "text/plain": [
       "<Figure size 640x480 with 1 Axes>"
      ]
     },
     "metadata": {},
     "output_type": "display_data"
    }
   ],
   "source": [
    "plt.plot([list(i.values())[0] for i in grid_search.cv_results_['params']], grid_search.cv_results_['mean_test_score'])\n",
    "plt.xlabel('Tree Size (max_depth)')\n",
    "plt.ylabel('Mean Test Score')\n",
    "plt.show()\n"
   ]
  },
  {
   "cell_type": "markdown",
   "id": "2dd5b8bf",
   "metadata": {},
   "source": [
    "Your answer:\n",
    "\n",
    "~~~\n",
    "Please write your answer in full sentences.\n",
    "\n",
    "\n",
    "~~~\n",
    "\n",
    "(h) Which tree size corresponds to the lowest cross-validated classification error rate?\n",
    "\n",
    "Your code:"
   ]
  },
  {
   "cell_type": "code",
   "execution_count": null,
   "id": "5e57e183",
   "metadata": {
    "Rmd_chunk_options": "echo=TRUE",
    "kernel": "Python3",
    "tags": [
     "report_cell"
    ]
   },
   "outputs": [],
   "source": [
    "#\n",
    "#"
   ]
  },
  {
   "cell_type": "markdown",
   "id": "c1c0bbc5",
   "metadata": {},
   "source": [
    "Your answer:\n",
    "\n",
    "~~~\n",
    "Please write your answer in full sentences.\n",
    "\n",
    "From the image above, we can see that tree with `1` depth is the worst.\n",
    "~~~\n",
    "\n",
    "(i) Produce a pruned tree corresponding to the optimal tree size obtained using cross-validation. If cross-validation does not lead\n",
    "to selection of a pruned tree, then create a pruned tree with five terminal nodes.\n",
    "\n",
    "Your code:"
   ]
  },
  {
   "cell_type": "code",
   "execution_count": 84,
   "id": "27432083",
   "metadata": {
    "Rmd_chunk_options": "echo=TRUE",
    "kernel": "Python3",
    "tags": [
     "report_cell"
    ]
   },
   "outputs": [
    {
     "data": {
      "image/png": "[encoded data removed]",
      "text/plain": [
       "<Figure size 1200x800 with 1 Axes>"
      ]
     },
     "metadata": {},
     "output_type": "display_data"
    }
   ],
   "source": [
    "tree_dep9 = DecisionTreeClassifier(max_depth=9)\n",
    "tree_dep9.fit(trainOJ_X, trainOJ['Purchase'])\n",
    "plt.figure(figsize=(12, 8))\n",
    "tree.plot_tree(tree_dep9, filled=True)\n",
    "plt.show()"
   ]
  },
  {
   "cell_type": "markdown",
   "id": "f9298adc",
   "metadata": {},
   "source": [
    "Your answer:\n",
    "\n",
    "~~~\n",
    "Please write your answer in full sentences.\n",
    "\n",
    "\n",
    "~~~\n",
    "\n",
    "(j) Compare the training error rates between the pruned and unpruned trees. Which is higher?\n",
    "\n",
    "Your code:"
   ]
  },
  {
   "cell_type": "code",
   "execution_count": 86,
   "id": "5464079b",
   "metadata": {
    "Rmd_chunk_options": "echo=TRUE",
    "kernel": "Python3",
    "tags": [
     "report_cell"
    ]
   },
   "outputs": [
    {
     "name": "stdout",
     "output_type": "stream",
     "text": [
      "[[261  56]\n",
      " [ 53 139]]\n",
      "misclassification rate: 0.21414538310412573\n"
     ]
    }
   ],
   "source": [
    "tree9CM = confusion_matrix(testOJ['Purchase'], tree_dep9.predict(testOJ_X))\n",
    "print(tree9CM) \n",
    "\n",
    "print('misclassification rate:', (tree9CM[0,1]+tree9CM[1,0])/tree9CM.sum())"
   ]
  },
  {
   "cell_type": "markdown",
   "id": "a1071b7d",
   "metadata": {},
   "source": [
    "Your answer:\n",
    "\n",
    "~~~\n",
    "Please write your answer in full sentences.\n",
    "\n",
    "\n",
    "~~~\n",
    "\n",
    "\n",
    "(k) Compare the test error rates between the pruned and unpruned trees. Which is higher?\n",
    "\n",
    "Your code:"
   ]
  },
  {
   "cell_type": "code",
   "execution_count": 90,
   "id": "306fe3fc",
   "metadata": {
    "Rmd_chunk_options": "echo=TRUE",
    "kernel": "Python3",
    "tags": [
     "report_cell"
    ]
   },
   "outputs": [
    {
     "name": "stdout",
     "output_type": "stream",
     "text": [
      "Test Error Rate: 22.99%\n",
      "Depth = 9, misclassification rate:  21.41%\n"
     ]
    }
   ],
   "source": [
    "print(f\"Test Error Rate: {test_error_rate * 100:.2f}%\")\n",
    "print(f'Depth = 9, misclassification rate: {(tree9CM[0,1]+tree9CM[1,0])/tree9CM.sum() * 100: .2f}%')\n"
   ]
  },
  {
   "cell_type": "markdown",
   "id": "95d77e1f",
   "metadata": {},
   "source": [
    "Your answer:\n",
    "\n",
    "~~~\n",
    "Please write your answer in full sentences.\n",
    "\n",
    "\n",
    "~~~"
   ]
  },
  {
   "cell_type": "markdown",
   "id": "d8f310ba",
   "metadata": {},
   "source": [
    "### Hitters\n",
    "\n",
    "We now use boosting to predict Salary in the Hitters data set."
   ]
  },
  {
   "cell_type": "code",
   "execution_count": null,
   "id": "3c2407bc",
   "metadata": {
    "kernel": "Python3",
    "tags": [
     "report_cell"
    ]
   },
   "outputs": [],
   "source": [
    "Hitters = load_data(\"Hitters\")"
   ]
  },
  {
   "cell_type": "markdown",
   "id": "f5e16093",
   "metadata": {},
   "source": [
    "(a) Remove the observations for whom the salary information is unknown, and then log-transform the salaries.\n",
    "\n",
    "Your code:"
   ]
  },
  {
   "cell_type": "code",
   "execution_count": null,
   "id": "9f3fd328",
   "metadata": {
    "Rmd_chunk_options": "echo=TRUE",
    "kernel": "Python3",
    "tags": [
     "report_cell"
    ]
   },
   "outputs": [],
   "source": [
    "#\n",
    "#"
   ]
  },
  {
   "cell_type": "markdown",
   "id": "19c92289",
   "metadata": {},
   "source": [
    "Your answer:\n",
    "\n",
    "~~~\n",
    "Please write your answer in full sentences.\n",
    "\n",
    "\n",
    "~~~\n",
    "\n",
    "(b) Create a training set consisting of the first 200 observations, and a test set consisting of the remaining observations.\n",
    "\n",
    "Your code:"
   ]
  },
  {
   "cell_type": "code",
   "execution_count": null,
   "id": "69ffe30b",
   "metadata": {
    "Rmd_chunk_options": "echo=TRUE",
    "kernel": "Python3",
    "tags": [
     "report_cell"
    ]
   },
   "outputs": [],
   "source": [
    "#\n",
    "#"
   ]
  },
  {
   "cell_type": "markdown",
   "id": "9a501e56",
   "metadata": {},
   "source": [
    "Your answer:\n",
    "\n",
    "~~~\n",
    "Please write your answer in full sentences.\n",
    "\n",
    "\n",
    "~~~\n",
    "\n",
    "(c) Perform boosting on the training set with 1,000 trees for a range of values of the shrinkage parameter $lambda$. Produce a plot with different shrinkage values on the x-axis and the corresponding\n",
    "training set MSE on the y-axis.\n",
    "\n",
    "Your code:"
   ]
  },
  {
   "cell_type": "code",
   "execution_count": null,
   "id": "81d0ee7f",
   "metadata": {
    "Rmd_chunk_options": "echo=TRUE",
    "kernel": "Python3",
    "tags": [
     "report_cell"
    ]
   },
   "outputs": [],
   "source": [
    "#\n",
    "#"
   ]
  },
  {
   "cell_type": "markdown",
   "id": "f4d190d6",
   "metadata": {},
   "source": [
    "Your answer:\n",
    "\n",
    "~~~\n",
    "Please write your answer in full sentences.\n",
    "\n",
    "\n",
    "~~~\n",
    "\n",
    "(d) Produce a plot with different shrinkage values on the x-axis and the corresponding test set MSE on the y-axis.\n",
    "\n",
    "Your code:"
   ]
  },
  {
   "cell_type": "code",
   "execution_count": null,
   "id": "2c414155",
   "metadata": {
    "Rmd_chunk_options": "echo=TRUE",
    "kernel": "Python3",
    "tags": [
     "report_cell"
    ]
   },
   "outputs": [],
   "source": [
    "#\n",
    "#"
   ]
  },
  {
   "cell_type": "markdown",
   "id": "368a3863",
   "metadata": {},
   "source": [
    "Your answer:\n",
    "\n",
    "~~~\n",
    "Please write your answer in full sentences.\n",
    "\n",
    "\n",
    "~~~\n",
    "\n",
    "(e) Compare the test MSE of boosting to the test MSE that results from applying two of the regression approaches seen in Chapters 3 and 6.\n",
    "\n",
    "Your code:"
   ]
  },
  {
   "cell_type": "code",
   "execution_count": null,
   "id": "006e882c",
   "metadata": {
    "Rmd_chunk_options": "echo=TRUE",
    "kernel": "Python3",
    "tags": [
     "report_cell"
    ]
   },
   "outputs": [],
   "source": [
    "#\n",
    "#"
   ]
  },
  {
   "cell_type": "markdown",
   "id": "45676878",
   "metadata": {},
   "source": [
    "Your answer:\n",
    "\n",
    "~~~\n",
    "Please write your answer in full sentences.\n",
    "\n",
    "\n",
    "~~~\n",
    "\n",
    "(f) Which variables appear to be the most important predictors in the boosted model?\n",
    "\n",
    "Your code:"
   ]
  },
  {
   "cell_type": "code",
   "execution_count": null,
   "id": "e8fce9cc",
   "metadata": {
    "Rmd_chunk_options": "echo=TRUE",
    "kernel": "Python3",
    "tags": [
     "report_cell"
    ]
   },
   "outputs": [],
   "source": [
    "#\n",
    "#"
   ]
  },
  {
   "cell_type": "markdown",
   "id": "04dcbe94",
   "metadata": {},
   "source": [
    "Your answer:\n",
    "\n",
    "~~~\n",
    "Please write your answer in full sentences.\n",
    "\n",
    "\n",
    "~~~\n",
    "\n",
    "(g) Now apply bagging to the training set. What is the test set MSE for this approach?\n",
    "\n",
    "Your code:"
   ]
  },
  {
   "cell_type": "code",
   "execution_count": null,
   "id": "c73b6e57",
   "metadata": {
    "Rmd_chunk_options": "echo=TRUE",
    "kernel": "Python3",
    "tags": [
     "report_cell"
    ]
   },
   "outputs": [],
   "source": [
    "#\n",
    "#"
   ]
  },
  {
   "cell_type": "markdown",
   "id": "6cfe755e",
   "metadata": {},
   "source": [
    "Your answer:\n",
    "\n",
    "~~~\n",
    "Please write your answer in full sentences.\n",
    "\n",
    "\n",
    "~~~"
   ]
  },
  {
   "cell_type": "markdown",
   "id": "9f9e4279",
   "metadata": {},
   "source": [
    "### Caravan\n",
    "\n",
    "This question uses the `Caravan` data set."
   ]
  },
  {
   "cell_type": "code",
   "execution_count": null,
   "id": "42ff0a94",
   "metadata": {
    "kernel": "Python3",
    "tags": [
     "report_cell"
    ]
   },
   "outputs": [],
   "source": [
    "Caravan = load_data(\"Caravan\")"
   ]
  },
  {
   "cell_type": "markdown",
   "id": "6e5ff16a",
   "metadata": {},
   "source": [
    "(a) Create a training set consisting of the first 1,000 observations, and a test set consisting of the remaining observations.\n",
    "\n",
    "Your code:"
   ]
  },
  {
   "cell_type": "code",
   "execution_count": null,
   "id": "a63adff6",
   "metadata": {
    "Rmd_chunk_options": "echo=TRUE",
    "kernel": "Python3",
    "tags": [
     "report_cell"
    ]
   },
   "outputs": [],
   "source": [
    "#\n",
    "#"
   ]
  },
  {
   "cell_type": "markdown",
   "id": "50a4dba8",
   "metadata": {},
   "source": [
    "(b) Fit a boosting model to the training set with `Purchase` as the response and the other variables as predictors. Use 1,000 trees, and a shrinkage value of 0.01. Which predictors appear to be the most important?\n",
    "\n",
    "Your code:"
   ]
  },
  {
   "cell_type": "code",
   "execution_count": null,
   "id": "22a7be6b",
   "metadata": {
    "Rmd_chunk_options": "echo=TRUE",
    "kernel": "Python3",
    "tags": [
     "report_cell"
    ]
   },
   "outputs": [],
   "source": [
    "#\n",
    "#"
   ]
  },
  {
   "cell_type": "markdown",
   "id": "60610372",
   "metadata": {},
   "source": [
    "Your answer:\n",
    "\n",
    "~~~\n",
    "Please write your answer in full sentences.\n",
    "\n",
    "\n",
    "~~~\n",
    "\n",
    "\n",
    "(c) Use the boosting model to predict the response on the test data. Predict that a person will make a purchase if the estimated probability of purchase is greater than 20 %. Form a confusion matrix. What fraction of the people predicted to make a purchase do in fact make one? How does this compare with the results obtained from applying KNN or logistic regression to this data set?\n",
    "\n",
    "Your code:"
   ]
  },
  {
   "cell_type": "code",
   "execution_count": null,
   "id": "0dc8daad",
   "metadata": {
    "Rmd_chunk_options": "echo=TRUE",
    "kernel": "Python3",
    "tags": [
     "report_cell"
    ]
   },
   "outputs": [],
   "source": [
    "#\n",
    "#"
   ]
  },
  {
   "cell_type": "markdown",
   "id": "98f6f5d6",
   "metadata": {},
   "source": [
    "Your answer:\n",
    "\n",
    "~~~\n",
    "Please write your answer in full sentences.\n",
    "\n",
    "\n",
    "~~~"
   ]
  },
  {
   "cell_type": "markdown",
   "id": "adf43ae7",
   "metadata": {},
   "source": [
    "## Additional Material"
   ]
  },
  {
   "cell_type": "markdown",
   "id": "5625c9a0",
   "metadata": {},
   "source": [
    "In this section we will look at other popular tree based methods that are readily available.\n",
    "For classification we will use the [iris dataset](https://scikit-learn.org/stable/auto_examples/datasets/plot_iris_dataset.html) ."
   ]
  },
  {
   "cell_type": "code",
   "execution_count": null,
   "id": "9f7364b1",
   "metadata": {
    "Rmd_chunk_options": "fig.width=12,fig.height=10",
    "kernel": "Python3",
    "tags": [
     "report_cell"
    ]
   },
   "outputs": [],
   "source": [
    "from sklearn import datasets\n",
    "from sklearn.model_selection import train_test_split\n",
    "\n",
    "iris = datasets.load_iris()\n",
    "iris_X=pd.DataFrame(iris.data,columns=iris.feature_names)\n",
    "iris_y=pd.DataFrame(iris.target,columns=['Class'])\n",
    "\n",
    "# split the data\n",
    "X_train0, X_test, y_train0, y_test = train_test_split(iris_X, iris_y, test_size=0.33, random_state=42)\n",
    "trainData = pd.concat([X_train0, y_train0], axis=1)\n",
    "testData  = pd.concat([X_test, y_test], axis=1)"
   ]
  },
  {
   "cell_type": "markdown",
   "id": "10a138e7",
   "metadata": {},
   "source": [
    "### CART graph\n",
    "\n",
    "https://github.com/Sidon/Sidon.github.io/blob/master/_posts/dtree-w1.ipynb"
   ]
  },
  {
   "cell_type": "code",
   "execution_count": null,
   "id": "e670e01d",
   "metadata": {
    "kernel": "Python3",
    "tags": [
     "report_cell"
    ]
   },
   "outputs": [],
   "source": [
    "import matplotlib.pyplot as plt\n",
    "import itertools\n",
    "def plot_confusion_matrix(cm, classes,\n",
    "                          normalize=False,\n",
    "                          title='Confusion matrix',\n",
    "                          cmap=plt.cm.Blues):\n",
    "    \"\"\"\n",
    "    This function prints and plots the confusion matrix.\n",
    "    Normalization can be applied by setting `normalize=True`.\n",
    "    \"\"\"\n",
    "    plt.imshow(cm, interpolation='nearest', cmap=cmap)\n",
    "    plt.title(title)\n",
    "    plt.colorbar()\n",
    "    tick_marks = np.arange(len(classes))\n",
    "    plt.xticks(tick_marks, classes, rotation=45)\n",
    "    plt.yticks(tick_marks, classes)\n",
    "    if normalize:\n",
    "        cm = cm.astype('float') / cm.sum(axis=1)[:, np.newaxis]\n",
    "        print(\"Normalized confusion matrix\")\n",
    "    else:\n",
    "        print('Confusion matrix, without normalization')\n",
    "\n",
    "    print(cm)\n",
    "    thresh = cm.max() / 2.\n",
    "    for i, j in itertools.product(range(cm.shape[0]), range(cm.shape[1])):\n",
    "        plt.text(j, i, cm[i, j],\n",
    "                 horizontalalignment=\"center\",\n",
    "                 color=\"white\" if cm[i, j] > thresh else \"black\")\n",
    "    plt.tight_layout()\n",
    "    plt.ylabel('True')\n",
    "    plt.xlabel('Predicted')"
   ]
  },
  {
   "cell_type": "code",
   "execution_count": null,
   "id": "8b5ea923",
   "metadata": {
    "Rmd_chunk_options": "fig.width=12,fig.height=10",
    "kernel": "Python3",
    "tags": [
     "report_cell"
    ]
   },
   "outputs": [],
   "source": [
    "# Fit CART  Model\n",
    "from sklearn.tree import DecisionTreeClassifier\n",
    "from sklearn import tree\n",
    "from io import StringIO\n",
    "import pydotplus\n",
    "import sklearn\n",
    "import sklearn.metrics\n",
    "from IPython.display import Image\n",
    "out = StringIO()\n",
    "clf = DecisionTreeClassifier()\n",
    "clf = clf.fit(X_train0,y_train0)\n",
    "\n",
    "# you will need to install graphviz\n",
    "tree.export_graphviz(clf, out_file=out, feature_names=iris.feature_names,class_names=['0','1','2'],\n",
    "                     filled=True, rounded=True, special_characters=True)\n",
    "\n",
    "graph=pydotplus.graph_from_dot_data(out.getvalue())\n",
    "Image(graph.create_png())\n",
    "\n",
    "predictions=clf.predict(X_test)\n",
    "confusion_matrix = sklearn.metrics.confusion_matrix(y_test,predictions)\n",
    "plot_confusion_matrix(confusion_matrix,['Setosa','Versicolour','Virginica'])"
   ]
  },
  {
   "cell_type": "markdown",
   "id": "603c86f4",
   "metadata": {},
   "source": [
    "### XGBoost\n",
    "\n",
    "XGBoost became popular due to its success in Kaggle competitions.  It's essentially a gradient boosting but implemented to perform better out of the box.  Some of the nice features include:\n",
    "\n",
    "- Default regularization\n",
    "- Tree growing and pruning scheme allows for multiple cuts\n",
    "- Computational efficiency by parallelization\n",
    "- A couple of default choices to make it easier to use\n",
    "- Handles missing data\n",
    "\n",
    "However, if you want to go deeper, there are some challenges/concerns.\n",
    "\n",
    "- Hyperparameter tuning is hard\n",
    "- Missing data imputation scheme is concerning\n",
    "- Cannot handle categorical variables\n",
    "\n",
    "Here is it used for the iris data."
   ]
  },
  {
   "cell_type": "code",
   "execution_count": null,
   "id": "3db5080f",
   "metadata": {
    "kernel": "Python3",
    "tags": [
     "report_cell"
    ]
   },
   "outputs": [],
   "source": [
    "import xgboost as xgb\n",
    "\n",
    "param = {'max_depth': 2, 'eta': 1, 'objective': 'multi:softmax'}\n",
    "param['nthread'] = 4\n",
    "param['eval_metric'] = 'auc'\n",
    "param['num_class'] = 3\n",
    "\n",
    "num_round = 10\n",
    "\n",
    "dtrain = xgb.DMatrix(X_train0, label=y_train0)\n",
    "dtest = xgb.DMatrix(X_test, label=y_test)\n",
    "evallist = [(dtrain, 'train'), (dtest, 'eval')]\n",
    "bst = xgb.train(param, dtrain, num_round, evallist)\n",
    "ypred = bst.predict(dtest)"
   ]
  },
  {
   "cell_type": "markdown",
   "id": "8b752540",
   "metadata": {},
   "source": [
    "What gets unwieldy is when you start to tune the parameters.\n",
    "Here is the list of parameters used.  Not all of them need tuning, but I hope you understand.\n",
    "\n",
    "- General Parameters that define the overall functionality of XGBoost.\n",
    "  - booster [default=gbtree]: type of model\n",
    "  - silent [default=0]: display log?\n",
    "  - nthread [default to the maximum number of threads available if not set]: number of cores\n",
    "- Learning Task Parameters define the optimization objective and the metric to be calculated at each step.\n",
    "  - objective [default=reg:linear] the loss function to be minimized.\n",
    "  - eval_metric [ default according to objective ] The metric for validation data.\n",
    "  - seed [default=0] The random number seed.\n",
    "- Booster Parameters\n",
    "  - eta [default=0.3]. Analogous to the learning rate in GBM\n",
    "  - min_child_weight [default=1] is the minimum sum of weights of all observations required in a child.\n",
    "  - max_depth [default=6] The maximum depth of a tree, same as GBM.\n",
    "  - max_leaf_nodes  The maximum number of terminal nodes or leaves in a tree.\n",
    "  - gamma [default=0] is the minimum loss reduction required to make a split.\n",
    "  - max_delta_step [default=0]  If it is set to a positive value makes the update step more conservative.\n",
    "  - subsample [default=1] the fraction of observations randomly sampled for each tree.\n",
    "  - colsample_bytree [default=1] is the fraction of columns randomly sampled for each tree.\n",
    "  - colsample_bylevel [default=1] the subsample ratio of columns for each split, in each level.\n",
    "  - lambda [default=1]  L2 regularization term on weights (analogous to Ridge regression)\n",
    "  - alpha [default=0] L1 regularization term on weight (analogous to Lasso regression)\n",
    "  - scale_pos_weight [default=1] >0 for high class imbalance as it helps in faster convergence.\n",
    "\n",
    "Because of this, there is an automatic versiong of xgboost exists. But I was not able to install it on my machine."
   ]
  },
  {
   "cell_type": "code",
   "execution_count": null,
   "id": "93bab0c3",
   "metadata": {
    "Rmd_chunk_options": "eval=FALSE",
    "kernel": "Python3",
    "tags": [
     "report_cell"
    ]
   },
   "outputs": [],
   "source": [
    "#from autoxgb import AutoXGB"
   ]
  },
  {
   "cell_type": "markdown",
   "id": "f552a668",
   "metadata": {},
   "source": [
    "### catboost\n",
    "\n",
    "Catboost is another popular boosting method that in my view popular due to well thought out implementation.\n",
    "The three features that distingishes itself from the other similar models are\n",
    "\n",
    "- Symmetric tree\n",
    "- Ordered Boosting\n",
    "- Categorical Feature Engineering\n",
    "\n",
    "\n",
    " https://catboost.ai/en/docs/concepts/r-usages-examples"
   ]
  },
  {
   "cell_type": "code",
   "execution_count": null,
   "id": "081fd8d5",
   "metadata": {
    "Rmd_chunk_options": "eval=FALSE",
    "kernel": "Python3",
    "tags": [
     "report_cell"
    ]
   },
   "outputs": [],
   "source": [
    "# library(catboost)\n",
    "# # load data\n",
    "# set.seed(1)\n",
    "# idx=sample(1:nrow(iris),nrow(iris)*.7)\n",
    "# train=iris[idx,]\n",
    "# test=iris[-idx,]\n",
    "# fit_control <- caret::trainControl(\n",
    "#   method = \"cv\",\n",
    "#   number = 3,\n",
    "#   search = \"random\",\n",
    "#   classProbs = TRUE\n",
    "# )\n",
    "# # set grid options\n",
    "# grid <- expand.grid(\n",
    "#   depth = c(4, 6, 8),\n",
    "#   learning_rate = 0.1,\n",
    "#   l2_leaf_reg = 0.1,\n",
    "#   rsm = 0.95,\n",
    "#   border_count = 64,\n",
    "#   iterations = 10\n",
    "# )\n",
    "# model <- caret::train(\n",
    "#   x = train[,-5],\n",
    "#   y = train[,5],\n",
    "#   method = catboost.caret,\n",
    "#   metric = \"Accuracy\",\n",
    "#   maximize = TRUE,\n",
    "#   preProc = NULL,\n",
    "#   tuneGrid = grid,\n",
    "#   tuneLength = 30,\n",
    "#   trControl = fit_control\n",
    "# )\n",
    "# table(test$Species,predict(model,test))"
   ]
  },
  {
   "cell_type": "markdown",
   "id": "02ebb07f",
   "metadata": {},
   "source": [
    "### Ensemble model\n",
    "\n",
    "Bagging, Random Forest, and Boosting are examples of ensemble models.\n",
    "The idea is to combine models to get a better result than any individual model can achieve.\n",
    "So far, we’ve combined the same models, but that need not be the case.\n",
    "One way to combine the results is to just average the outcomes from different models.\n",
    "But one need not trust the results from all models equally.\n",
    "An alternative way is to use the predictions as input into a regression model to create weights representing the level of trust in the model.\n",
    "\n",
    "Stacking is easy to implement but even easier if you use caret.\n",
    "For example, if you want to do 10 fold Repeated CV to fit CART, knn, logistic regression,Gaussian Naive Bayes and svc, then combine the results.\n",
    "\n",
    "You can find more details [here](https://machinelearningmastery.com/stacking-ensemble-machine-learning-with-python/)."
   ]
  },
  {
   "cell_type": "code",
   "execution_count": null,
   "id": "a0d28319",
   "metadata": {
    "kernel": "Python3",
    "tags": [
     "report_cell"
    ]
   },
   "outputs": [],
   "source": [
    "# pip install datapackage\n",
    "from datapackage import Package\n",
    "from sklearn.model_selection import RepeatedKFold\n",
    "from sklearn.linear_model import LogisticRegression\n",
    "from sklearn.neighbors import KNeighborsClassifier\n",
    "from sklearn.tree import DecisionTreeClassifier\n",
    "from sklearn.naive_bayes import GaussianNB\n",
    "from sklearn.svm import SVC\n",
    "from sklearn.model_selection import cross_val_score\n",
    "\n",
    "from sklearn.ensemble import StackingClassifier\n",
    "from matplotlib import pyplot\n",
    "\n",
    "package = Package('https://datahub.io/machine-learning/sonar/datapackage.json')\n",
    "resources = package.resources\n",
    "Sonar = pd.read_csv(resources[1].descriptor['path'])\n",
    "\n",
    "Sonar_y=Sonar.loc[:,\"Class\"]\n",
    "Sonar_x=Sonar.drop([\"Class\"], axis=1)\n",
    "\n",
    "level0 = list()\n",
    "level0.append(('lr', LogisticRegression()))\n",
    "level0.append(('knn', KNeighborsClassifier()))\n",
    "level0.append(('cart', DecisionTreeClassifier()))\n",
    "level0.append(('svm', SVC()))\n",
    "level0.append(('bayes', GaussianNB()))\n",
    "# define meta learner model\n",
    "level1 = LogisticRegression()\n",
    "stacking = StackingClassifier(estimators=level0, final_estimator=level1, cv=5)\n",
    "cv = RepeatedKFold(n_splits=10, n_repeats=3)\n",
    "scores = cross_val_score(stacking, Sonar_x, Sonar_y, scoring='accuracy', cv=cv, n_jobs=-1, error_score='raise')"
   ]
  }
 ],
 "metadata": {
  "Rmd_chunk_options": {
   "author": "Masanao Yajima",
   "date": "2023-01-05",
   "output": "html_document",
   "title": "Tree based Ensemble"
  },
  "kernelspec": {
   "display_name": "Python 3 (ipykernel)",
   "language": "python",
   "name": "python3"
  },
  "language_info": {
   "codemirror_mode": {
    "name": "ipython",
    "version": 3
   },
   "file_extension": ".py",
   "mimetype": "text/x-python",
   "name": "python",
   "nbconvert_exporter": "python",
   "pygments_lexer": "ipython3",
   "version": "3.9.7"
  },
  "sos": {
   "kernels": [
    [
     "SoS",
     "sos",
     "",
     ""
    ],
    [
     "R",
     "ir",
     "",
     ""
    ],
    [
     "css",
     "css",
     "",
     ""
    ],
    [
     "Python3",
     "ir",
     "",
     ""
    ]
   ]
  }
 },
 "nbformat": 4,
 "nbformat_minor": 5
}
